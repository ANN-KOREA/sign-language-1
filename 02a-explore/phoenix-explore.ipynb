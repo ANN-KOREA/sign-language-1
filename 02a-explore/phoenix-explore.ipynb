{
 "cells": [
  {
   "cell_type": "markdown",
   "metadata": {},
   "source": [
    "# Analyze Phönix database\n",
    "\n",
    "* property of RWTH Aachen, https://www-i6.informatik.rwth-aachen.de/~forster/database-rwth-phoenix.php"
   ]
  },
  {
   "cell_type": "code",
   "execution_count": 1,
   "metadata": {},
   "outputs": [],
   "source": [
    "import numpy as np\n",
    "import pandas as pd\n",
    "import os\n",
    "\n",
    "import xml.etree.cElementTree as et\n",
    "\n",
    "import matplotlib.pyplot as plt\n",
    "import seaborn as sns\n",
    "sns.set()\n",
    "%matplotlib inline"
   ]
  },
  {
   "cell_type": "code",
   "execution_count": 2,
   "metadata": {},
   "outputs": [],
   "source": [
    "def corpus2pandas(filename):\n",
    "    \n",
    "    parsed_xml = et.parse(filename)\n",
    "    dfcols = ['sVideo', 'sSegment', 'sWord']\n",
    "    df_xml = pd.DataFrame(columns=dfcols)\n",
    "\n",
    "    for recording in parsed_xml.getroot():\n",
    "        recording_name = recording.attrib.get('name')\n",
    "        \n",
    "        segment = recording.find('segment')\n",
    "        if segment == None:\n",
    "            segment_name = None\n",
    "            orth_name = None\n",
    "        else:\n",
    "            segment_name = segment.get('name')\n",
    "            \n",
    "            orth = segment.find('orth')\n",
    "            if orth == None: orth_name = None\n",
    "            else: orth_name = orth.text.replace('\\n', '').replace(' ', '')\n",
    "\n",
    "        df_xml = df_xml.append(\n",
    "            pd.Series([recording_name, segment_name, orth_name], index=dfcols),\n",
    "            ignore_index=True)\n",
    "    \n",
    "    return(df_xml)"
   ]
  },
  {
   "cell_type": "code",
   "execution_count": 3,
   "metadata": {},
   "outputs": [],
   "source": [
    "#os.chdir(\"/Users/Frederik/Dev/sign-language/01-explore\")\n",
    "#os.getcwd()"
   ]
  },
  {
   "cell_type": "code",
   "execution_count": 4,
   "metadata": {},
   "outputs": [
    {
     "data": {
      "text/plain": [
       "('/Users/Frederik/Dev/sign-language/datasets/02-phoenix',\n",
       " ['variants',\n",
       "  '.DS_Store',\n",
       "  'test',\n",
       "  '_tar',\n",
       "  'RWTH-PHOENIX-Weather-Signer03-cutout.train.corpus',\n",
       "  'RWTH-PHOENIX-Weather-Signer03-cutout.test.corpus',\n",
       "  'train'])"
      ]
     },
     "execution_count": 4,
     "metadata": {},
     "output_type": "execute_result"
    }
   ],
   "source": [
    "os.chdir(\"../datasets/02-phoenix\")\n",
    "os.getcwd(), os.listdir()"
   ]
  },
  {
   "cell_type": "code",
   "execution_count": 14,
   "metadata": {},
   "outputs": [],
   "source": [
    "dfTrain = corpus2pandas(\"RWTH-PHOENIX-Weather-Signer03-cutout.train.corpus\").iloc[1:,:]"
   ]
  },
  {
   "cell_type": "code",
   "execution_count": 15,
   "metadata": {},
   "outputs": [
    {
     "data": {
      "text/html": [
       "<div>\n",
       "<style scoped>\n",
       "    .dataframe tbody tr th:only-of-type {\n",
       "        vertical-align: middle;\n",
       "    }\n",
       "\n",
       "    .dataframe tbody tr th {\n",
       "        vertical-align: top;\n",
       "    }\n",
       "\n",
       "    .dataframe thead th {\n",
       "        text-align: right;\n",
       "    }\n",
       "</style>\n",
       "<table border=\"1\" class=\"dataframe\">\n",
       "  <thead>\n",
       "    <tr style=\"text-align: right;\">\n",
       "      <th></th>\n",
       "      <th>sVideo</th>\n",
       "      <th>sSegment</th>\n",
       "      <th>sWord</th>\n",
       "    </tr>\n",
       "  </thead>\n",
       "  <tbody>\n",
       "    <tr>\n",
       "      <th>1</th>\n",
       "      <td>01May_2010_Saturday_tagesschau_default_wort-0</td>\n",
       "      <td>1</td>\n",
       "      <td>HEUTE</td>\n",
       "    </tr>\n",
       "    <tr>\n",
       "      <th>2</th>\n",
       "      <td>01May_2010_Saturday_tagesschau_default_wort-1</td>\n",
       "      <td>1</td>\n",
       "      <td>WETTER</td>\n",
       "    </tr>\n",
       "    <tr>\n",
       "      <th>3</th>\n",
       "      <td>01May_2010_Saturday_tagesschau_default_wort-2</td>\n",
       "      <td>1</td>\n",
       "      <td>SEHEN</td>\n",
       "    </tr>\n",
       "    <tr>\n",
       "      <th>4</th>\n",
       "      <td>01May_2010_Saturday_tagesschau_default_wort-3</td>\n",
       "      <td>1</td>\n",
       "      <td>MORGEN</td>\n",
       "    </tr>\n",
       "    <tr>\n",
       "      <th>5</th>\n",
       "      <td>01May_2010_Saturday_tagesschau_default_wort-4</td>\n",
       "      <td>1</td>\n",
       "      <td>SONNTAG</td>\n",
       "    </tr>\n",
       "  </tbody>\n",
       "</table>\n",
       "</div>"
      ],
      "text/plain": [
       "                                          sVideo sSegment    sWord\n",
       "1  01May_2010_Saturday_tagesschau_default_wort-0        1    HEUTE\n",
       "2  01May_2010_Saturday_tagesschau_default_wort-1        1   WETTER\n",
       "3  01May_2010_Saturday_tagesschau_default_wort-2        1    SEHEN\n",
       "4  01May_2010_Saturday_tagesschau_default_wort-3        1   MORGEN\n",
       "5  01May_2010_Saturday_tagesschau_default_wort-4        1  SONNTAG"
      ]
     },
     "execution_count": 15,
     "metadata": {},
     "output_type": "execute_result"
    }
   ],
   "source": [
    "dfTrain.head()"
   ]
  },
  {
   "cell_type": "code",
   "execution_count": 16,
   "metadata": {},
   "outputs": [
    {
     "name": "stdout",
     "output_type": "stream",
     "text": [
      "<class 'pandas.core.frame.DataFrame'>\n",
      "RangeIndex: 3174 entries, 1 to 3174\n",
      "Data columns (total 3 columns):\n",
      "sVideo      3174 non-null object\n",
      "sSegment    3174 non-null object\n",
      "sWord       3174 non-null object\n",
      "dtypes: object(3)\n",
      "memory usage: 74.5+ KB\n"
     ]
    }
   ],
   "source": [
    "dfTrain.info()"
   ]
  },
  {
   "cell_type": "code",
   "execution_count": 17,
   "metadata": {},
   "outputs": [
    {
     "data": {
      "text/plain": [
       "array(['HEUTE', 'WETTER', 'SEHEN', 'MORGEN', 'SONNTAG', 'ZWEITE', 'MAI',\n",
       "       '[OFF]', 'NORD', 'MITTE', 'EUROPA', 'KALT', 'TIEF', 'cl-KOMMEN',\n",
       "       'DEUTSCH', 'loc-REGION', 'WARM', 'EINIGERMASSEN', 'ABEND', 'SUED',\n",
       "       'REGEN', 'SUEDOST', 'KLAR', 'cl-WOLKE', 'UEBERWIEGEND', 'AUCH',\n",
       "       'STARK', 'BESONDERS', 'NACH', 'MITTAG', 'GEWITTER', 'NORDWEST',\n",
       "       'FREUNDLICH', 'SO', '[ON]', 'SCHWACH', 'MASS', 'WEHEN', 'WIND',\n",
       "       'SONST', 'WENN', 'ZEHN', 'HOCH', 'EINS', 'BODEN', 'DIENSTAG',\n",
       "       'MEHR', 'MITTWOCH', 'BISSCHEN', 'OST', 'DRUCK', 'SCHON', 'WEST',\n",
       "       'GLEICH', 'ZEIT', 'VERLAUF', 'ABER', 'TROCKEN', 'TEIL', 'DANN',\n",
       "       'TAG', 'FRISCH', 'KOENNEN', 'LANG', 'NUR', 'ZWEI', 'ZWOELF',\n",
       "       'TEMPERATUR', 'FREITAG', 'VIEL', 'BERG', 'SCHNEE', 'MANCHMAL',\n",
       "       'SONNE', 'SAMSTAG', 'WAHRSCHEINLICH', 'loc-IX', 'SELTEN', '[PU]',\n",
       "       'JETZT', 'DRITTE', 'FEBRUAR', 'VORSICHT', 'GLATT', 'VOGEL',\n",
       "       'MINUS', 'IN-KOMMENDEN', 'DONNERSTAG', 'DABEI', 'VIERTE',\n",
       "       'DEZEMBER', 'NORDOST', 'KUESTE', 'SCHLESWIG', 'BIS', 'ORT',\n",
       "       'UEBER', 'SECHSHUNDERT', 'UNTERSCHIEDLICH', 'SECHS', 'LEICHT',\n",
       "       'MAXIMAL', 'SIEBEN', 'ANFANG', 'IM-VERLAUF', 'WECHSEL', 'GUT',\n",
       "       'LIEB', 'TAUEN', 'PERFEKT', 'VOR', 'HAMBURG', 'HANNOVER', 'NEIN',\n",
       "       'NICHT-SCHOEN', 'NICHT-HABEN', 'DREIHUNDERT', 'ICH', 'FLUSS',\n",
       "       'MEIST', 'DU', 'FREUEN', 'NULL', 'JAHR', 'RICHTIG', 'MIT', 'STERN',\n",
       "       'NEUN', 'DREI', 'PLUS', 'NICHT-GLEICH', 'JUNI', 'AB', 'EINIGE',\n",
       "       'STUNDE', 'LETZTER', 'SECHZEHN', 'ZWANZIG', 'MONTAG', 'FUENFTE',\n",
       "       'RUHIG', 'LUFT', 'SPAETER', 'GRENZE', 'KOMMEN', 'WEITER', 'HIMMEL',\n",
       "       'DURCH', 'FUENF', 'SIEBZEHN', 'ERSTMAL', 'WIE-AUSSEHEN', 'SECHSTE',\n",
       "       'MUESSEN', 'ODER', 'DREISSIG', 'SIEBTE', 'GEWESEN', 'BLAU', 'TAL',\n",
       "       'UNTER', 'VIERZEHN', 'ACHT', 'B', 'HEISS', 'HALLO', 'BEGRUESSEN',\n",
       "       'DIESE', 'ZEIGEN-BILDSCHIRM', 'NEU', 'STADT', 'H', 'LIEGEN',\n",
       "       'VERAENDERN', 'NICHT-VIEL', 'NICHTALP-AUCH', 'FRANKREICH',\n",
       "       'BEDEUTEN', 'WIE', 'UNGEFAEHR', 'UMSTELLEN', 'BLEIBEN',\n",
       "       'AUSRICHTEN', 'ACHTE', 'APRIL', 'RUSSLAND', 'UM', 'NEUNTE', 'JULI',\n",
       "       'FEUCHT', 'GEFAEHRLICH', 'MEER', 'SCHWER', 'ZEHNTE', 'AUGUST',\n",
       "       'ELF', 'VORBEREITEN', 'SUEDWEST', 'NICHT-SONNE', 'WENIG',\n",
       "       'DREIZEHN', 'DAENEMARK', 'BELGIEN', 'SOMMER', 'BADEN', 'ACHTZEHN',\n",
       "       'NOVEMBER', 'POMMERN', 'TATSAECHLICH', 'SAUER', 'FUENFZEHN', 'UND',\n",
       "       'SCHWUEL', 'RHEINLAND-PFALZ', 'BADEN-WUERTEMBERG', 'THUERINGEN',\n",
       "       'ERZ', 'HAGEL', 'GRUND', 'UNGARN', 'JA', 'NICHT-REGEN', 'ZWISCHEN',\n",
       "       'SCHLUSS', 'ENTSCHULDIGUNG', 'ENGLAND', 'IM-MOMENT', 'poss-SEIN',\n",
       "       'NICHT-BEISEITE', 'IRLAND', 'RECHNEN', 'WIE-IMMER', 'SINKEN',\n",
       "       'ENORM', 'DAZU', 'ETWAS', 'KEIN', 'NEBEL', 'NEUNZEHN', 'HERBST',\n",
       "       'TROPFEN', 'VERSCHWINDEN', 'HART', 'OFT', 'ALLGAEU', 'WUENSCHEN',\n",
       "       'AUFPASSEN', 'DESHALB', 'FOLGE', 'ZUSCHAUER', 'BAYERN', 'WALD',\n",
       "       'OKTOBER', 'LOCH-PLUSPLUS', 'HABEN', 'SECHSZEHN', 'AUFLOCKERUNG',\n",
       "       'SEPTEMBER', 'SCHWARZMEER', 'VERBREITEN', 'KURZ', 'L',\n",
       "       'ZWEIUNDZWANZIG', 'FRUEH', 'VIER', 'GRAU'], dtype=object)"
      ]
     },
     "execution_count": 17,
     "metadata": {},
     "output_type": "execute_result"
    }
   ],
   "source": [
    "dfTrain.sWord.unique()"
   ]
  },
  {
   "cell_type": "code",
   "execution_count": 18,
   "metadata": {},
   "outputs": [
    {
     "name": "stdout",
     "output_type": "stream",
     "text": [
      "3174 training videos, 266 different words\n"
     ]
    }
   ],
   "source": [
    "print(\"%d training videos, %d different words\" % (dfTrain.shape[0], dfTrain.sWord.unique().shape[0]))"
   ]
  },
  {
   "cell_type": "code",
   "execution_count": 19,
   "metadata": {},
   "outputs": [
    {
     "data": {
      "text/html": [
       "<div>\n",
       "<style scoped>\n",
       "    .dataframe tbody tr th:only-of-type {\n",
       "        vertical-align: middle;\n",
       "    }\n",
       "\n",
       "    .dataframe tbody tr th {\n",
       "        vertical-align: top;\n",
       "    }\n",
       "\n",
       "    .dataframe thead th {\n",
       "        text-align: right;\n",
       "    }\n",
       "</style>\n",
       "<table border=\"1\" class=\"dataframe\">\n",
       "  <thead>\n",
       "    <tr style=\"text-align: right;\">\n",
       "      <th></th>\n",
       "      <th>sWord</th>\n",
       "      <th>nCount</th>\n",
       "    </tr>\n",
       "  </thead>\n",
       "  <tbody>\n",
       "    <tr>\n",
       "      <th>0</th>\n",
       "      <td>REGEN</td>\n",
       "      <td>153</td>\n",
       "    </tr>\n",
       "    <tr>\n",
       "      <th>1</th>\n",
       "      <td>cl-WOLKE</td>\n",
       "      <td>127</td>\n",
       "    </tr>\n",
       "    <tr>\n",
       "      <th>2</th>\n",
       "      <td>loc-REGION</td>\n",
       "      <td>118</td>\n",
       "    </tr>\n",
       "    <tr>\n",
       "      <th>3</th>\n",
       "      <td>HEUTE</td>\n",
       "      <td>106</td>\n",
       "    </tr>\n",
       "    <tr>\n",
       "      <th>4</th>\n",
       "      <td>loc-IX</td>\n",
       "      <td>105</td>\n",
       "    </tr>\n",
       "    <tr>\n",
       "      <th>5</th>\n",
       "      <td>[OFF]</td>\n",
       "      <td>99</td>\n",
       "    </tr>\n",
       "    <tr>\n",
       "      <th>6</th>\n",
       "      <td>MORGEN</td>\n",
       "      <td>86</td>\n",
       "    </tr>\n",
       "    <tr>\n",
       "      <th>7</th>\n",
       "      <td>WIND</td>\n",
       "      <td>80</td>\n",
       "    </tr>\n",
       "    <tr>\n",
       "      <th>8</th>\n",
       "      <td>SCHNEE</td>\n",
       "      <td>80</td>\n",
       "    </tr>\n",
       "    <tr>\n",
       "      <th>9</th>\n",
       "      <td>ABEND</td>\n",
       "      <td>68</td>\n",
       "    </tr>\n",
       "    <tr>\n",
       "      <th>10</th>\n",
       "      <td>SUED</td>\n",
       "      <td>64</td>\n",
       "    </tr>\n",
       "    <tr>\n",
       "      <th>11</th>\n",
       "      <td>SONNE</td>\n",
       "      <td>62</td>\n",
       "    </tr>\n",
       "    <tr>\n",
       "      <th>12</th>\n",
       "      <td>cl-KOMMEN</td>\n",
       "      <td>59</td>\n",
       "    </tr>\n",
       "    <tr>\n",
       "      <th>13</th>\n",
       "      <td>[ON]</td>\n",
       "      <td>56</td>\n",
       "    </tr>\n",
       "    <tr>\n",
       "      <th>14</th>\n",
       "      <td>AUCH</td>\n",
       "      <td>55</td>\n",
       "    </tr>\n",
       "    <tr>\n",
       "      <th>15</th>\n",
       "      <td>NORD</td>\n",
       "      <td>54</td>\n",
       "    </tr>\n",
       "    <tr>\n",
       "      <th>16</th>\n",
       "      <td>TEMPERATUR</td>\n",
       "      <td>53</td>\n",
       "    </tr>\n",
       "    <tr>\n",
       "      <th>17</th>\n",
       "      <td>GEWITTER</td>\n",
       "      <td>50</td>\n",
       "    </tr>\n",
       "    <tr>\n",
       "      <th>18</th>\n",
       "      <td>HOCH</td>\n",
       "      <td>46</td>\n",
       "    </tr>\n",
       "    <tr>\n",
       "      <th>19</th>\n",
       "      <td>BISSCHEN</td>\n",
       "      <td>44</td>\n",
       "    </tr>\n",
       "  </tbody>\n",
       "</table>\n",
       "</div>"
      ],
      "text/plain": [
       "         sWord  nCount\n",
       "0        REGEN     153\n",
       "1     cl-WOLKE     127\n",
       "2   loc-REGION     118\n",
       "3        HEUTE     106\n",
       "4       loc-IX     105\n",
       "5        [OFF]      99\n",
       "6       MORGEN      86\n",
       "7         WIND      80\n",
       "8       SCHNEE      80\n",
       "9        ABEND      68\n",
       "10        SUED      64\n",
       "11       SONNE      62\n",
       "12   cl-KOMMEN      59\n",
       "13        [ON]      56\n",
       "14        AUCH      55\n",
       "15        NORD      54\n",
       "16  TEMPERATUR      53\n",
       "17    GEWITTER      50\n",
       "18        HOCH      46\n",
       "19    BISSCHEN      44"
      ]
     },
     "execution_count": 19,
     "metadata": {},
     "output_type": "execute_result"
    }
   ],
   "source": [
    "dfWord_freq = dfTrain.groupby(\"sWord\").size().sort_values(ascending=False).reset_index(name=\"nCount\")\n",
    "dfWord_freq.iloc[:20,:]"
   ]
  },
  {
   "cell_type": "code",
   "execution_count": 20,
   "metadata": {},
   "outputs": [],
   "source": [
    "dfWord_freq[\"nCumSum\"] = dfWord_freq.nCount.cumsum()"
   ]
  },
  {
   "cell_type": "code",
   "execution_count": 21,
   "metadata": {},
   "outputs": [
    {
     "data": {
      "text/plain": [
       "(<matplotlib.axes._subplots.AxesSubplot at 0x1a0aab4eb8>,\n",
       " <matplotlib.axes._subplots.AxesSubplot at 0x1a0a5c2470>)"
      ]
     },
     "execution_count": 21,
     "metadata": {},
     "output_type": "execute_result"
    },
    {
     "data": {
      "image/png": "[encoded data removed]",
      "text/plain": [
       "<matplotlib.figure.Figure at 0x1a0aabc160>"
      ]
     },
     "metadata": {},
     "output_type": "display_data"
    },
    {
     "data": {
      "image/png": "[encoded data removed]",
      "text/plain": [
       "<matplotlib.figure.Figure at 0x1a0a3ee550>"
      ]
     },
     "metadata": {},
     "output_type": "display_data"
    }
   ],
   "source": [
    "dfWord_freq.plot(y=\"nCount\", ), dfWord_freq.plot(y=\"nCumSum\")"
   ]
  },
  {
   "cell_type": "code",
   "execution_count": 23,
   "metadata": {},
   "outputs": [
    {
     "data": {
      "text/html": [
       "<div>\n",
       "<style scoped>\n",
       "    .dataframe tbody tr th:only-of-type {\n",
       "        vertical-align: middle;\n",
       "    }\n",
       "\n",
       "    .dataframe tbody tr th {\n",
       "        vertical-align: top;\n",
       "    }\n",
       "\n",
       "    .dataframe thead th {\n",
       "        text-align: right;\n",
       "    }\n",
       "</style>\n",
       "<table border=\"1\" class=\"dataframe\">\n",
       "  <thead>\n",
       "    <tr style=\"text-align: right;\">\n",
       "      <th></th>\n",
       "      <th>sWord</th>\n",
       "      <th>nCount</th>\n",
       "      <th>nCumSum</th>\n",
       "    </tr>\n",
       "  </thead>\n",
       "  <tbody>\n",
       "    <tr>\n",
       "      <th>4</th>\n",
       "      <td>loc-IX</td>\n",
       "      <td>105</td>\n",
       "      <td>609</td>\n",
       "    </tr>\n",
       "    <tr>\n",
       "      <th>5</th>\n",
       "      <td>[OFF]</td>\n",
       "      <td>99</td>\n",
       "      <td>708</td>\n",
       "    </tr>\n",
       "    <tr>\n",
       "      <th>6</th>\n",
       "      <td>MORGEN</td>\n",
       "      <td>86</td>\n",
       "      <td>794</td>\n",
       "    </tr>\n",
       "    <tr>\n",
       "      <th>7</th>\n",
       "      <td>WIND</td>\n",
       "      <td>80</td>\n",
       "      <td>874</td>\n",
       "    </tr>\n",
       "    <tr>\n",
       "      <th>8</th>\n",
       "      <td>SCHNEE</td>\n",
       "      <td>80</td>\n",
       "      <td>954</td>\n",
       "    </tr>\n",
       "  </tbody>\n",
       "</table>\n",
       "</div>"
      ],
      "text/plain": [
       "    sWord  nCount  nCumSum\n",
       "4  loc-IX     105      609\n",
       "5   [OFF]      99      708\n",
       "6  MORGEN      86      794\n",
       "7    WIND      80      874\n",
       "8  SCHNEE      80      954"
      ]
     },
     "execution_count": 23,
     "metadata": {},
     "output_type": "execute_result"
    }
   ],
   "source": [
    "dfWord_freq.query(\"nCount >= 80\").tail()"
   ]
  },
  {
   "cell_type": "markdown",
   "metadata": {},
   "source": [
    "---\n",
    "## Summary of training data\n",
    "\n",
    "Total: 3174 training videos, 266 different words\n",
    "\n",
    "* Min 50 occurences: 17 words, total of 1,475 videos\n",
    "* Min 20 occurences: 47 words, total of 2,326 videos\n",
    "* Min 10 occurences: 74 words, total of 2,680 videos\n",
    "\n",
    "---"
   ]
  },
  {
   "cell_type": "code",
   "execution_count": 151,
   "metadata": {},
   "outputs": [],
   "source": [
    "dfTest = corpus2pandas(\"RWTH-PHOENIX-Weather-Signer03-cutout.test.corpus\").iloc[1:,:]"
   ]
  },
  {
   "cell_type": "code",
   "execution_count": 156,
   "metadata": {},
   "outputs": [
    {
     "data": {
      "text/html": [
       "<div>\n",
       "<style scoped>\n",
       "    .dataframe tbody tr th:only-of-type {\n",
       "        vertical-align: middle;\n",
       "    }\n",
       "\n",
       "    .dataframe tbody tr th {\n",
       "        vertical-align: top;\n",
       "    }\n",
       "\n",
       "    .dataframe thead th {\n",
       "        text-align: right;\n",
       "    }\n",
       "</style>\n",
       "<table border=\"1\" class=\"dataframe\">\n",
       "  <thead>\n",
       "    <tr style=\"text-align: right;\">\n",
       "      <th></th>\n",
       "      <th>sVideo</th>\n",
       "      <th>sSegment</th>\n",
       "      <th>sWord</th>\n",
       "    </tr>\n",
       "  </thead>\n",
       "  <tbody>\n",
       "    <tr>\n",
       "      <th>1</th>\n",
       "      <td>01May_2010_Saturday_tagesschau_default_wort-0</td>\n",
       "      <td>1</td>\n",
       "      <td>TAG</td>\n",
       "    </tr>\n",
       "    <tr>\n",
       "      <th>2</th>\n",
       "      <td>01May_2010_Saturday_tagesschau_default_wort-1</td>\n",
       "      <td>1</td>\n",
       "      <td>NORDOST</td>\n",
       "    </tr>\n",
       "    <tr>\n",
       "      <th>3</th>\n",
       "      <td>01May_2010_Saturday_tagesschau_default_wort-2</td>\n",
       "      <td>1</td>\n",
       "      <td>ZWOELF</td>\n",
       "    </tr>\n",
       "    <tr>\n",
       "      <th>4</th>\n",
       "      <td>01May_2010_Saturday_tagesschau_default_wort-3</td>\n",
       "      <td>1</td>\n",
       "      <td>SUED</td>\n",
       "    </tr>\n",
       "    <tr>\n",
       "      <th>5</th>\n",
       "      <td>01May_2010_Saturday_tagesschau_default_wort-4</td>\n",
       "      <td>1</td>\n",
       "      <td>BAYERN</td>\n",
       "    </tr>\n",
       "  </tbody>\n",
       "</table>\n",
       "</div>"
      ],
      "text/plain": [
       "                                          sVideo sSegment    sWord\n",
       "1  01May_2010_Saturday_tagesschau_default_wort-0        1      TAG\n",
       "2  01May_2010_Saturday_tagesschau_default_wort-1        1  NORDOST\n",
       "3  01May_2010_Saturday_tagesschau_default_wort-2        1   ZWOELF\n",
       "4  01May_2010_Saturday_tagesschau_default_wort-3        1     SUED\n",
       "5  01May_2010_Saturday_tagesschau_default_wort-4        1   BAYERN"
      ]
     },
     "execution_count": 156,
     "metadata": {},
     "output_type": "execute_result"
    }
   ],
   "source": [
    "dfTest.head()"
   ]
  },
  {
   "cell_type": "code",
   "execution_count": 153,
   "metadata": {},
   "outputs": [
    {
     "name": "stdout",
     "output_type": "stream",
     "text": [
      "485 test videos, 118 different words\n"
     ]
    }
   ],
   "source": [
    "print(\"%d test videos, %d different words\" % (dfTest.shape[0], dfTest.sWord.unique().shape[0]))"
   ]
  },
  {
   "cell_type": "code",
   "execution_count": 154,
   "metadata": {},
   "outputs": [
    {
     "data": {
      "text/plain": [
       "'/Users/Frederik/Dev/sign-language/data-download/phoenix/variants'"
      ]
     },
     "execution_count": 154,
     "metadata": {},
     "output_type": "execute_result"
    }
   ],
   "source": [
    "os.chdir(\"variants\")\n",
    "os.getcwd()"
   ]
  },
  {
   "cell_type": "code",
   "execution_count": 155,
   "metadata": {},
   "outputs": [
    {
     "data": {
      "text/plain": [
       "['RWTH-PHOENIX-Weather-Signer03-cutout-variants.test.corpus',\n",
       " 'RWTH-PHOENIX-Weather-Signer03-cutout-variants.train.corpus']"
      ]
     },
     "execution_count": 155,
     "metadata": {},
     "output_type": "execute_result"
    }
   ],
   "source": [
    "os.listdir()"
   ]
  },
  {
   "cell_type": "code",
   "execution_count": 157,
   "metadata": {},
   "outputs": [],
   "source": [
    "dfTrain_var = corpus2pandas(\"RWTH-PHOENIX-Weather-Signer03-cutout-variants.train.corpus\").iloc[1:,:]"
   ]
  },
  {
   "cell_type": "code",
   "execution_count": 160,
   "metadata": {},
   "outputs": [
    {
     "data": {
      "text/html": [
       "<div>\n",
       "<style scoped>\n",
       "    .dataframe tbody tr th:only-of-type {\n",
       "        vertical-align: middle;\n",
       "    }\n",
       "\n",
       "    .dataframe tbody tr th {\n",
       "        vertical-align: top;\n",
       "    }\n",
       "\n",
       "    .dataframe thead th {\n",
       "        text-align: right;\n",
       "    }\n",
       "</style>\n",
       "<table border=\"1\" class=\"dataframe\">\n",
       "  <thead>\n",
       "    <tr style=\"text-align: right;\">\n",
       "      <th></th>\n",
       "      <th>sVideo</th>\n",
       "      <th>sSegment</th>\n",
       "      <th>sWord</th>\n",
       "    </tr>\n",
       "  </thead>\n",
       "  <tbody>\n",
       "    <tr>\n",
       "      <th>1</th>\n",
       "      <td>01May_2010_Saturday_tagesschau_default_wort-0</td>\n",
       "      <td>1</td>\n",
       "      <td>HEUTE#1runter</td>\n",
       "    </tr>\n",
       "    <tr>\n",
       "      <th>2</th>\n",
       "      <td>01May_2010_Saturday_tagesschau_default_wort-1</td>\n",
       "      <td>1</td>\n",
       "      <td>WETTER#2</td>\n",
       "    </tr>\n",
       "    <tr>\n",
       "      <th>3</th>\n",
       "      <td>01May_2010_Saturday_tagesschau_default_wort-2</td>\n",
       "      <td>1</td>\n",
       "      <td>SEHEN#2</td>\n",
       "    </tr>\n",
       "    <tr>\n",
       "      <th>4</th>\n",
       "      <td>01May_2010_Saturday_tagesschau_default_wort-3</td>\n",
       "      <td>1</td>\n",
       "      <td>MORGEN#short1b</td>\n",
       "    </tr>\n",
       "    <tr>\n",
       "      <th>5</th>\n",
       "      <td>01May_2010_Saturday_tagesschau_default_wort-4</td>\n",
       "      <td>1</td>\n",
       "      <td>SONNTAG#1</td>\n",
       "    </tr>\n",
       "  </tbody>\n",
       "</table>\n",
       "</div>"
      ],
      "text/plain": [
       "                                          sVideo sSegment           sWord\n",
       "1  01May_2010_Saturday_tagesschau_default_wort-0        1   HEUTE#1runter\n",
       "2  01May_2010_Saturday_tagesschau_default_wort-1        1        WETTER#2\n",
       "3  01May_2010_Saturday_tagesschau_default_wort-2        1         SEHEN#2\n",
       "4  01May_2010_Saturday_tagesschau_default_wort-3        1  MORGEN#short1b\n",
       "5  01May_2010_Saturday_tagesschau_default_wort-4        1       SONNTAG#1"
      ]
     },
     "execution_count": 160,
     "metadata": {},
     "output_type": "execute_result"
    }
   ],
   "source": [
    "dfTrain_var.head()"
   ]
  },
  {
   "cell_type": "code",
   "execution_count": 162,
   "metadata": {},
   "outputs": [
    {
     "name": "stdout",
     "output_type": "stream",
     "text": [
      "3174 train videos, 702 different word-variants\n"
     ]
    }
   ],
   "source": [
    "print(\"%d train videos, %d different word-variants\" % (dfTrain_var.shape[0], dfTrain_var.sWord.unique().shape[0]))"
   ]
  },
  {
   "cell_type": "code",
   "execution_count": 163,
   "metadata": {},
   "outputs": [
    {
     "data": {
      "text/plain": [
       "array(['HEUTE#1runter', 'WETTER#2', 'SEHEN#2', 'MORGEN#short1b',\n",
       "       'SONNTAG#1', 'ZWEITE#2', 'MAI#1', '[OFF]#1', 'NORD#mo', 'MITTE#1',\n",
       "       'EUROPA#1', 'KALT#ksingl', 'TIEF#6', 'cl-KOMMEN#5rlrhk',\n",
       "       'DEUTSCH#1', 'loc-REGION#5rkuz', 'KALT#2', 'loc-REGION#5rrlhk',\n",
       "       'WARM#2', 'EINIGERMASSEN#1', 'ABEND#short1b_short1c', 'SUED#1',\n",
       "       'REGEN#1', 'SUEDOST#1', 'REGEN#5_short5c',\n",
       "       'NORD#mo_or_ro_ol_lo_ol', 'KLAR#1kante', 'MORGEN#1', 'cl-WOLKE#1',\n",
       "       'UEBERWIEGEND#1', 'REGEN#1_short1', 'REGEN#5', 'AUCH#short1',\n",
       "       'STARK#1', 'REGEN#1_1', 'BESONDERS#1', 'NACH#1', 'MITTAG#2',\n",
       "       'GEWITTER#1', 'NORDWEST#mo_o2_2r_r2_2o', 'FREUNDLICH#3',\n",
       "       'SO#short1', '[ON]#nothing', 'NORD#mo_or_ro', 'SCHWACH#short1',\n",
       "       'MASS#5', 'NORD#4', 'WEHEN#10', 'WIND#7', 'WIND#15', 'SONST#1',\n",
       "       'loc-REGION#5rlrhk', 'WEHEN#4', 'WENN#1', 'WIND#short2',\n",
       "       'HEUTE#fausthoch', 'ZEHN#1', 'HOCH#2runter_2hoch', 'EINS#1',\n",
       "       'loc-REGION#many', 'BODEN#1', 'DIENSTAG#1', 'SUEDOST#4_4',\n",
       "       'NORDWEST#r2_2o_o2_2o', 'MEHR#1', 'MITTWOCH#1', 'NORD#ro_ol_lm',\n",
       "       'BISSCHEN#1o', 'REGEN#1fi_1fi', 'loc-REGION#5rkguz', 'OST#4',\n",
       "       'SUEDOST#3_3', 'MORGEN#short1a', 'BISSCHEN#short2drehungb',\n",
       "       'HOCH#4', 'DRUCK#8', 'SCHON#1', 'WEST#4r_r2_2o_o2_2r_r2_2o',\n",
       "       'REGEN#short1_short1_short1', 'GLEICH#2', 'ZEIT#1',\n",
       "       'VERLAUF#1_short1', 'ABER#5', 'cl-KOMMEN#5llr_5lrl', 'TROCKEN#1',\n",
       "       'HEUTE#1hoch_1runter', 'OST#shortmlflacheu', 'cl-WOLKE#short1',\n",
       "       'TEIL#1', 'KLAR#5', 'BISSCHEN#short2drehunga', 'AUCH#2',\n",
       "       'KALT#vsingl', 'DANN#short2a', 'TAG#2', 'cl-WOLKE#1_1',\n",
       "       'loc-REGION#tmp4', 'BISSCHEN#1or', 'WIND#6', 'SCHWACH#1'],\n",
       "      dtype=object)"
      ]
     },
     "execution_count": 163,
     "metadata": {},
     "output_type": "execute_result"
    }
   ],
   "source": [
    "dfTrain_var.sWord.unique()[:100]"
   ]
  },
  {
   "cell_type": "code",
   "execution_count": null,
   "metadata": {},
   "outputs": [],
   "source": []
  }
 ],
 "metadata": {
  "kernelspec": {
   "display_name": "Python 3",
   "language": "python",
   "name": "python3"
  },
  "language_info": {
   "codemirror_mode": {
    "name": "ipython",
    "version": 3
   },
   "file_extension": ".py",
   "mimetype": "text/x-python",
   "name": "python",
   "nbconvert_exporter": "python",
   "pygments_lexer": "ipython3",
   "version": "3.6.4"
  }
 },
 "nbformat": 4,
 "nbformat_minor": 2
}
