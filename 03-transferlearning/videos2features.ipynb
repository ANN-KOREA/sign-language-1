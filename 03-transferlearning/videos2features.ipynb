{
 "cells": [
  {
   "cell_type": "code",
   "execution_count": 1,
   "metadata": {},
   "outputs": [],
   "source": [
    "import numpy as np\n",
    "import pandas as pd\n",
    "\n",
    "import os\n",
    "import glob\n",
    "\n",
    "from subprocess import call\n",
    "\n",
    "import matplotlib.pyplot as plt\n",
    "import seaborn as sns\n",
    "sns.set()\n",
    "%matplotlib inline"
   ]
  },
  {
   "cell_type": "code",
   "execution_count": 2,
   "metadata": {},
   "outputs": [],
   "source": [
    "# number of frames per video fixed upfront\n",
    "nFrames_Video = 20"
   ]
  },
  {
   "cell_type": "code",
   "execution_count": 3,
   "metadata": {},
   "outputs": [],
   "source": [
    "dfFiles = pd.read_csv(\"../data/04-chalearn/train/train_list.txt\", sep=\" \", header=None, names=[\"sFile\", \"sFileDepth\", \"nLabel\"])"
   ]
  },
  {
   "cell_type": "code",
   "execution_count": 4,
   "metadata": {},
   "outputs": [
    {
     "data": {
      "text/html": [
       "<div>\n",
       "<style scoped>\n",
       "    .dataframe tbody tr th:only-of-type {\n",
       "        vertical-align: middle;\n",
       "    }\n",
       "\n",
       "    .dataframe tbody tr th {\n",
       "        vertical-align: top;\n",
       "    }\n",
       "\n",
       "    .dataframe thead th {\n",
       "        text-align: right;\n",
       "    }\n",
       "</style>\n",
       "<table border=\"1\" class=\"dataframe\">\n",
       "  <thead>\n",
       "    <tr style=\"text-align: right;\">\n",
       "      <th></th>\n",
       "      <th>sFile</th>\n",
       "      <th>sFileDepth</th>\n",
       "      <th>nLabel</th>\n",
       "    </tr>\n",
       "  </thead>\n",
       "  <tbody>\n",
       "    <tr>\n",
       "      <th>35873</th>\n",
       "      <td>train/180/M_35874.avi</td>\n",
       "      <td>train/180/K_35874.avi</td>\n",
       "      <td>28</td>\n",
       "    </tr>\n",
       "    <tr>\n",
       "      <th>35874</th>\n",
       "      <td>train/180/M_35875.avi</td>\n",
       "      <td>train/180/K_35875.avi</td>\n",
       "      <td>33</td>\n",
       "    </tr>\n",
       "    <tr>\n",
       "      <th>35875</th>\n",
       "      <td>train/180/M_35876.avi</td>\n",
       "      <td>train/180/K_35876.avi</td>\n",
       "      <td>1</td>\n",
       "    </tr>\n",
       "    <tr>\n",
       "      <th>35876</th>\n",
       "      <td>train/180/M_35877.avi</td>\n",
       "      <td>train/180/K_35877.avi</td>\n",
       "      <td>14</td>\n",
       "    </tr>\n",
       "    <tr>\n",
       "      <th>35877</th>\n",
       "      <td>train/180/M_35878.avi</td>\n",
       "      <td>train/180/K_35878.avi</td>\n",
       "      <td>162</td>\n",
       "    </tr>\n",
       "  </tbody>\n",
       "</table>\n",
       "</div>"
      ],
      "text/plain": [
       "                       sFile             sFileDepth  nLabel\n",
       "35873  train/180/M_35874.avi  train/180/K_35874.avi      28\n",
       "35874  train/180/M_35875.avi  train/180/K_35875.avi      33\n",
       "35875  train/180/M_35876.avi  train/180/K_35876.avi       1\n",
       "35876  train/180/M_35877.avi  train/180/K_35877.avi      14\n",
       "35877  train/180/M_35878.avi  train/180/K_35878.avi     162"
      ]
     },
     "execution_count": 4,
     "metadata": {},
     "output_type": "execute_result"
    }
   ],
   "source": [
    "dfFiles.tail()"
   ]
  },
  {
   "cell_type": "code",
   "execution_count": 5,
   "metadata": {},
   "outputs": [
    {
     "name": "stdout",
     "output_type": "stream",
     "text": [
      "<class 'pandas.core.frame.DataFrame'>\n",
      "RangeIndex: 35878 entries, 0 to 35877\n",
      "Data columns (total 3 columns):\n",
      "sFile         35878 non-null object\n",
      "sFileDepth    35878 non-null object\n",
      "nLabel        35878 non-null int64\n",
      "dtypes: int64(1), object(2)\n",
      "memory usage: 841.0+ KB\n"
     ]
    }
   ],
   "source": [
    "dfFiles.info()"
   ]
  },
  {
   "cell_type": "code",
   "execution_count": 13,
   "metadata": {},
   "outputs": [],
   "source": [
    "seLabels = dfFiles.groupby(\"nLabel\").size().sort_values(ascending=False)"
   ]
  },
  {
   "cell_type": "code",
   "execution_count": 20,
   "metadata": {},
   "outputs": [
    {
     "name": "stdout",
     "output_type": "stream",
     "text": [
      "35878 videos, with 249 labels, occuring between 64-851 times\n"
     ]
    }
   ],
   "source": [
    "print(\"%d videos, with %d labels, occuring between %d-%d times\" % (len(dfFiles), len(seLabels), min(seLabels), max(seLabels)))"
   ]
  },
  {
   "cell_type": "code",
   "execution_count": 22,
   "metadata": {},
   "outputs": [
    {
     "data": {
      "text/plain": [
       "<matplotlib.axes._subplots.AxesSubplot at 0x118576320>"
      ]
     },
     "execution_count": 22,
     "metadata": {},
     "output_type": "execute_result"
    },
    {
     "data": {
      "image/png": "[encoded data removed]",
      "text/plain": [
       "<matplotlib.figure.Figure at 0x118428940>"
      ]
     },
     "metadata": {},
     "output_type": "display_data"
    }
   ],
   "source": [
    "seLabels.plot.box()\n",
    "#plt.plot(list(seLabels))"
   ]
  },
  {
   "cell_type": "code",
   "execution_count": 23,
   "metadata": {},
   "outputs": [],
   "source": [
    "# split train vs test data\n",
    "fTest = 0.2\n",
    "dfFiles[\"sTrain_test\"] = \"train\""
   ]
  },
  {
   "cell_type": "code",
   "execution_count": 24,
   "metadata": {},
   "outputs": [],
   "source": [
    "for g in dfFiles.groupby(\"nLabel\"):\n",
    "    pos = g[1].sample(frac = fTest).index\n",
    "    dfFiles.loc[pos, \"sTrain_test\"] = \"test\""
   ]
  },
  {
   "cell_type": "code",
   "execution_count": 25,
   "metadata": {},
   "outputs": [
    {
     "data": {
      "text/plain": [
       "sTrain_test\n",
       "test      7173\n",
       "train    28705\n",
       "dtype: int64"
      ]
     },
     "execution_count": 25,
     "metadata": {},
     "output_type": "execute_result"
    }
   ],
   "source": [
    "dfFiles.groupby(\"sTrain_test\").size()"
   ]
  },
  {
   "cell_type": "code",
   "execution_count": 26,
   "metadata": {},
   "outputs": [
    {
     "data": {
      "text/html": [
       "<div>\n",
       "<style scoped>\n",
       "    .dataframe tbody tr th:only-of-type {\n",
       "        vertical-align: middle;\n",
       "    }\n",
       "\n",
       "    .dataframe tbody tr th {\n",
       "        vertical-align: top;\n",
       "    }\n",
       "\n",
       "    .dataframe thead th {\n",
       "        text-align: right;\n",
       "    }\n",
       "</style>\n",
       "<table border=\"1\" class=\"dataframe\">\n",
       "  <thead>\n",
       "    <tr style=\"text-align: right;\">\n",
       "      <th></th>\n",
       "      <th>sFile</th>\n",
       "      <th>sFileDepth</th>\n",
       "      <th>nLabel</th>\n",
       "      <th>sTrain_test</th>\n",
       "    </tr>\n",
       "  </thead>\n",
       "  <tbody>\n",
       "    <tr>\n",
       "      <th>0</th>\n",
       "      <td>train/001/M_00001.avi</td>\n",
       "      <td>train/001/K_00001.avi</td>\n",
       "      <td>26</td>\n",
       "      <td>test</td>\n",
       "    </tr>\n",
       "    <tr>\n",
       "      <th>1</th>\n",
       "      <td>train/001/M_00002.avi</td>\n",
       "      <td>train/001/K_00002.avi</td>\n",
       "      <td>19</td>\n",
       "      <td>test</td>\n",
       "    </tr>\n",
       "    <tr>\n",
       "      <th>2</th>\n",
       "      <td>train/001/M_00003.avi</td>\n",
       "      <td>train/001/K_00003.avi</td>\n",
       "      <td>20</td>\n",
       "      <td>train</td>\n",
       "    </tr>\n",
       "    <tr>\n",
       "      <th>3</th>\n",
       "      <td>train/001/M_00004.avi</td>\n",
       "      <td>train/001/K_00004.avi</td>\n",
       "      <td>135</td>\n",
       "      <td>train</td>\n",
       "    </tr>\n",
       "    <tr>\n",
       "      <th>4</th>\n",
       "      <td>train/001/M_00005.avi</td>\n",
       "      <td>train/001/K_00005.avi</td>\n",
       "      <td>152</td>\n",
       "      <td>train</td>\n",
       "    </tr>\n",
       "  </tbody>\n",
       "</table>\n",
       "</div>"
      ],
      "text/plain": [
       "                   sFile             sFileDepth  nLabel sTrain_test\n",
       "0  train/001/M_00001.avi  train/001/K_00001.avi      26        test\n",
       "1  train/001/M_00002.avi  train/001/K_00002.avi      19        test\n",
       "2  train/001/M_00003.avi  train/001/K_00003.avi      20       train\n",
       "3  train/001/M_00004.avi  train/001/K_00004.avi     135       train\n",
       "4  train/001/M_00005.avi  train/001/K_00005.avi     152       train"
      ]
     },
     "execution_count": 26,
     "metadata": {},
     "output_type": "execute_result"
    }
   ],
   "source": [
    "dfFiles.head()"
   ]
  },
  {
   "cell_type": "code",
   "execution_count": null,
   "metadata": {},
   "outputs": [],
   "source": []
  }
 ],
 "metadata": {
  "kernelspec": {
   "display_name": "Python 3",
   "language": "python",
   "name": "python3"
  },
  "language_info": {
   "codemirror_mode": {
    "name": "ipython",
    "version": 3
   },
   "file_extension": ".py",
   "mimetype": "text/x-python",
   "name": "python",
   "nbconvert_exporter": "python",
   "pygments_lexer": "ipython3",
   "version": "3.6.4"
  }
 },
 "nbformat": 4,
 "nbformat_minor": 2
}
