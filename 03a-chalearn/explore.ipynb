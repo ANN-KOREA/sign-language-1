{
 "cells": [
  {
   "cell_type": "code",
   "execution_count": 1,
   "metadata": {},
   "outputs": [],
   "source": [
    "import numpy as np\n",
    "import pandas as pd\n",
    "\n",
    "import os\n",
    "import glob\n",
    "\n",
    "from subprocess import call\n",
    "\n",
    "import matplotlib.pyplot as plt\n",
    "import seaborn as sns\n",
    "sns.set()\n",
    "%matplotlib inline"
   ]
  },
  {
   "cell_type": "code",
   "execution_count": 2,
   "metadata": {},
   "outputs": [],
   "source": [
    "# number of frames per video fixed upfront\n",
    "nFrames_Video = 20"
   ]
  },
  {
   "cell_type": "code",
   "execution_count": 3,
   "metadata": {},
   "outputs": [],
   "source": [
    "dfFiles = pd.read_csv(\"../datasets/04-chalearn/_zip/train.txt\", sep=\" \", header=None, \\\n",
    "                      names=[\"sVideoPath\", \"s2\", \"nLabel\"])"
   ]
  },
  {
   "cell_type": "code",
   "execution_count": 4,
   "metadata": {},
   "outputs": [
    {
     "data": {
      "text/html": [
       "<div>\n",
       "<style scoped>\n",
       "    .dataframe tbody tr th:only-of-type {\n",
       "        vertical-align: middle;\n",
       "    }\n",
       "\n",
       "    .dataframe tbody tr th {\n",
       "        vertical-align: top;\n",
       "    }\n",
       "\n",
       "    .dataframe thead th {\n",
       "        text-align: right;\n",
       "    }\n",
       "</style>\n",
       "<table border=\"1\" class=\"dataframe\">\n",
       "  <thead>\n",
       "    <tr style=\"text-align: right;\">\n",
       "      <th></th>\n",
       "      <th>sVideoPath</th>\n",
       "      <th>s2</th>\n",
       "      <th>nLabel</th>\n",
       "    </tr>\n",
       "  </thead>\n",
       "  <tbody>\n",
       "    <tr>\n",
       "      <th>35873</th>\n",
       "      <td>train/180/M_35874.avi</td>\n",
       "      <td>train/180/K_35874.avi</td>\n",
       "      <td>28</td>\n",
       "    </tr>\n",
       "    <tr>\n",
       "      <th>35874</th>\n",
       "      <td>train/180/M_35875.avi</td>\n",
       "      <td>train/180/K_35875.avi</td>\n",
       "      <td>33</td>\n",
       "    </tr>\n",
       "    <tr>\n",
       "      <th>35875</th>\n",
       "      <td>train/180/M_35876.avi</td>\n",
       "      <td>train/180/K_35876.avi</td>\n",
       "      <td>1</td>\n",
       "    </tr>\n",
       "    <tr>\n",
       "      <th>35876</th>\n",
       "      <td>train/180/M_35877.avi</td>\n",
       "      <td>train/180/K_35877.avi</td>\n",
       "      <td>14</td>\n",
       "    </tr>\n",
       "    <tr>\n",
       "      <th>35877</th>\n",
       "      <td>train/180/M_35878.avi</td>\n",
       "      <td>train/180/K_35878.avi</td>\n",
       "      <td>162</td>\n",
       "    </tr>\n",
       "  </tbody>\n",
       "</table>\n",
       "</div>"
      ],
      "text/plain": [
       "                  sVideoPath                     s2  nLabel\n",
       "35873  train/180/M_35874.avi  train/180/K_35874.avi      28\n",
       "35874  train/180/M_35875.avi  train/180/K_35875.avi      33\n",
       "35875  train/180/M_35876.avi  train/180/K_35876.avi       1\n",
       "35876  train/180/M_35877.avi  train/180/K_35877.avi      14\n",
       "35877  train/180/M_35878.avi  train/180/K_35878.avi     162"
      ]
     },
     "execution_count": 4,
     "metadata": {},
     "output_type": "execute_result"
    }
   ],
   "source": [
    "dfFiles.tail()"
   ]
  },
  {
   "cell_type": "code",
   "execution_count": 5,
   "metadata": {},
   "outputs": [
    {
     "name": "stdout",
     "output_type": "stream",
     "text": [
      "<class 'pandas.core.frame.DataFrame'>\n",
      "RangeIndex: 35878 entries, 0 to 35877\n",
      "Data columns (total 3 columns):\n",
      "sVideoPath    35878 non-null object\n",
      "s2            35878 non-null object\n",
      "nLabel        35878 non-null int64\n",
      "dtypes: int64(1), object(2)\n",
      "memory usage: 841.0+ KB\n"
     ]
    }
   ],
   "source": [
    "dfFiles.info()"
   ]
  },
  {
   "cell_type": "code",
   "execution_count": 6,
   "metadata": {},
   "outputs": [],
   "source": [
    "seLabels = dfFiles.groupby(\"nLabel\").size().sort_values(ascending=False)"
   ]
  },
  {
   "cell_type": "code",
   "execution_count": 7,
   "metadata": {},
   "outputs": [
    {
     "name": "stdout",
     "output_type": "stream",
     "text": [
      "35878 videos, with 249 labels, occuring between 64-851 times\n"
     ]
    }
   ],
   "source": [
    "print(\"%d videos, with %d labels, occuring between %d-%d times\" % (len(dfFiles), len(seLabels), min(seLabels), max(seLabels)))"
   ]
  },
  {
   "cell_type": "code",
   "execution_count": 8,
   "metadata": {},
   "outputs": [
    {
     "data": {
      "text/plain": [
       "<matplotlib.axes._subplots.AxesSubplot at 0x1a1219f828>"
      ]
     },
     "execution_count": 8,
     "metadata": {},
     "output_type": "execute_result"
    },
    {
     "data": {
      "image/png": "[encoded data removed]",
      "text/plain": [
       "<matplotlib.figure.Figure at 0x10b2c23c8>"
      ]
     },
     "metadata": {},
     "output_type": "display_data"
    }
   ],
   "source": [
    "seLabels.plot.box()\n",
    "#plt.plot(list(seLabels))"
   ]
  },
  {
   "cell_type": "code",
   "execution_count": 9,
   "metadata": {},
   "outputs": [],
   "source": [
    "# split train vs val data\n",
    "fTest = 0.2\n",
    "dfFiles[\"sTrain_val\"] = \"train\""
   ]
  },
  {
   "cell_type": "code",
   "execution_count": 10,
   "metadata": {},
   "outputs": [],
   "source": [
    "for g in dfFiles.groupby(\"nLabel\"):\n",
    "    pos = g[1].sample(frac = fTest).index\n",
    "    dfFiles.loc[pos, \"sTrain_val\"] = \"val\""
   ]
  },
  {
   "cell_type": "code",
   "execution_count": 11,
   "metadata": {},
   "outputs": [
    {
     "data": {
      "text/plain": [
       "sTrain_val\n",
       "train    28705\n",
       "val       7173\n",
       "dtype: int64"
      ]
     },
     "execution_count": 11,
     "metadata": {},
     "output_type": "execute_result"
    }
   ],
   "source": [
    "dfFiles.groupby(\"sTrain_val\").size()"
   ]
  },
  {
   "cell_type": "code",
   "execution_count": 12,
   "metadata": {},
   "outputs": [
    {
     "data": {
      "text/html": [
       "<div>\n",
       "<style scoped>\n",
       "    .dataframe tbody tr th:only-of-type {\n",
       "        vertical-align: middle;\n",
       "    }\n",
       "\n",
       "    .dataframe tbody tr th {\n",
       "        vertical-align: top;\n",
       "    }\n",
       "\n",
       "    .dataframe thead th {\n",
       "        text-align: right;\n",
       "    }\n",
       "</style>\n",
       "<table border=\"1\" class=\"dataframe\">\n",
       "  <thead>\n",
       "    <tr style=\"text-align: right;\">\n",
       "      <th></th>\n",
       "      <th>sVideoPath</th>\n",
       "      <th>s2</th>\n",
       "      <th>nLabel</th>\n",
       "      <th>sTrain_val</th>\n",
       "    </tr>\n",
       "  </thead>\n",
       "  <tbody>\n",
       "    <tr>\n",
       "      <th>0</th>\n",
       "      <td>train/001/M_00001.avi</td>\n",
       "      <td>train/001/K_00001.avi</td>\n",
       "      <td>26</td>\n",
       "      <td>train</td>\n",
       "    </tr>\n",
       "    <tr>\n",
       "      <th>1</th>\n",
       "      <td>train/001/M_00002.avi</td>\n",
       "      <td>train/001/K_00002.avi</td>\n",
       "      <td>19</td>\n",
       "      <td>train</td>\n",
       "    </tr>\n",
       "    <tr>\n",
       "      <th>2</th>\n",
       "      <td>train/001/M_00003.avi</td>\n",
       "      <td>train/001/K_00003.avi</td>\n",
       "      <td>20</td>\n",
       "      <td>train</td>\n",
       "    </tr>\n",
       "    <tr>\n",
       "      <th>3</th>\n",
       "      <td>train/001/M_00004.avi</td>\n",
       "      <td>train/001/K_00004.avi</td>\n",
       "      <td>135</td>\n",
       "      <td>train</td>\n",
       "    </tr>\n",
       "    <tr>\n",
       "      <th>4</th>\n",
       "      <td>train/001/M_00005.avi</td>\n",
       "      <td>train/001/K_00005.avi</td>\n",
       "      <td>152</td>\n",
       "      <td>train</td>\n",
       "    </tr>\n",
       "  </tbody>\n",
       "</table>\n",
       "</div>"
      ],
      "text/plain": [
       "              sVideoPath                     s2  nLabel sTrain_val\n",
       "0  train/001/M_00001.avi  train/001/K_00001.avi      26      train\n",
       "1  train/001/M_00002.avi  train/001/K_00002.avi      19      train\n",
       "2  train/001/M_00003.avi  train/001/K_00003.avi      20      train\n",
       "3  train/001/M_00004.avi  train/001/K_00004.avi     135      train\n",
       "4  train/001/M_00005.avi  train/001/K_00005.avi     152      train"
      ]
     },
     "execution_count": 12,
     "metadata": {},
     "output_type": "execute_result"
    }
   ],
   "source": [
    "dfFiles.head()"
   ]
  },
  {
   "cell_type": "code",
   "execution_count": 17,
   "metadata": {},
   "outputs": [],
   "source": [
    "se_li_sVideoPath = dfFiles.sVideoPath.apply(lambda s: s.split(\"/\"))"
   ]
  },
  {
   "cell_type": "code",
   "execution_count": 25,
   "metadata": {},
   "outputs": [
    {
     "data": {
      "text/html": [
       "<div>\n",
       "<style scoped>\n",
       "    .dataframe tbody tr th:only-of-type {\n",
       "        vertical-align: middle;\n",
       "    }\n",
       "\n",
       "    .dataframe tbody tr th {\n",
       "        vertical-align: top;\n",
       "    }\n",
       "\n",
       "    .dataframe thead th {\n",
       "        text-align: right;\n",
       "    }\n",
       "</style>\n",
       "<table border=\"1\" class=\"dataframe\">\n",
       "  <thead>\n",
       "    <tr style=\"text-align: right;\">\n",
       "      <th></th>\n",
       "      <th>sVideoPath</th>\n",
       "      <th>s2</th>\n",
       "      <th>nLabel</th>\n",
       "      <th>sTrain_val</th>\n",
       "      <th>sTrainVal</th>\n",
       "      <th>sFileName</th>\n",
       "    </tr>\n",
       "  </thead>\n",
       "  <tbody>\n",
       "    <tr>\n",
       "      <th>0</th>\n",
       "      <td>train/001/M_00001.avi</td>\n",
       "      <td>train/001/K_00001.avi</td>\n",
       "      <td>26</td>\n",
       "      <td>train</td>\n",
       "      <td>train</td>\n",
       "      <td>M_00001.avi</td>\n",
       "    </tr>\n",
       "    <tr>\n",
       "      <th>1</th>\n",
       "      <td>train/001/M_00002.avi</td>\n",
       "      <td>train/001/K_00002.avi</td>\n",
       "      <td>19</td>\n",
       "      <td>train</td>\n",
       "      <td>train</td>\n",
       "      <td>M_00002.avi</td>\n",
       "    </tr>\n",
       "    <tr>\n",
       "      <th>2</th>\n",
       "      <td>train/001/M_00003.avi</td>\n",
       "      <td>train/001/K_00003.avi</td>\n",
       "      <td>20</td>\n",
       "      <td>train</td>\n",
       "      <td>train</td>\n",
       "      <td>M_00003.avi</td>\n",
       "    </tr>\n",
       "    <tr>\n",
       "      <th>3</th>\n",
       "      <td>train/001/M_00004.avi</td>\n",
       "      <td>train/001/K_00004.avi</td>\n",
       "      <td>135</td>\n",
       "      <td>train</td>\n",
       "      <td>train</td>\n",
       "      <td>M_00004.avi</td>\n",
       "    </tr>\n",
       "    <tr>\n",
       "      <th>4</th>\n",
       "      <td>train/001/M_00005.avi</td>\n",
       "      <td>train/001/K_00005.avi</td>\n",
       "      <td>152</td>\n",
       "      <td>train</td>\n",
       "      <td>train</td>\n",
       "      <td>M_00005.avi</td>\n",
       "    </tr>\n",
       "  </tbody>\n",
       "</table>\n",
       "</div>"
      ],
      "text/plain": [
       "              sVideoPath                     s2  nLabel sTrain_val sTrainVal  \\\n",
       "0  train/001/M_00001.avi  train/001/K_00001.avi      26      train     train   \n",
       "1  train/001/M_00002.avi  train/001/K_00002.avi      19      train     train   \n",
       "2  train/001/M_00003.avi  train/001/K_00003.avi      20      train     train   \n",
       "3  train/001/M_00004.avi  train/001/K_00004.avi     135      train     train   \n",
       "4  train/001/M_00005.avi  train/001/K_00005.avi     152      train     train   \n",
       "\n",
       "     sFileName  \n",
       "0  M_00001.avi  \n",
       "1  M_00002.avi  \n",
       "2  M_00003.avi  \n",
       "3  M_00004.avi  \n",
       "4  M_00005.avi  "
      ]
     },
     "execution_count": 25,
     "metadata": {},
     "output_type": "execute_result"
    }
   ],
   "source": [
    "dfFiles[\"sTrainVal\"] = se_li_sVideoPath.apply(lambda s: s[0])\n",
    "dfFiles[\"sFileName\"] = se_li_sVideoPath.apply(lambda s: s[2])\n",
    "dfFiles.head()"
   ]
  },
  {
   "cell_type": "code",
   "execution_count": 83,
   "metadata": {},
   "outputs": [],
   "source": [
    "seDir3 = dfFiles.sVideoPath.apply(lambda s: s.split(\"/\")[2])\n",
    "seDir3 = seDir3.apply(lambda s: s.split(\".\")[0])"
   ]
  },
  {
   "cell_type": "code",
   "execution_count": 88,
   "metadata": {},
   "outputs": [],
   "source": [
    "dfFiles[\"sFrameDir\"] = dfFiles.sTrain_val + \"/\" + dfFiles.nLabel.astype(\"str\") + \"/\" + seDir3"
   ]
  },
  {
   "cell_type": "code",
   "execution_count": 89,
   "metadata": {},
   "outputs": [
    {
     "data": {
      "text/html": [
       "<div>\n",
       "<style scoped>\n",
       "    .dataframe tbody tr th:only-of-type {\n",
       "        vertical-align: middle;\n",
       "    }\n",
       "\n",
       "    .dataframe tbody tr th {\n",
       "        vertical-align: top;\n",
       "    }\n",
       "\n",
       "    .dataframe thead th {\n",
       "        text-align: right;\n",
       "    }\n",
       "</style>\n",
       "<table border=\"1\" class=\"dataframe\">\n",
       "  <thead>\n",
       "    <tr style=\"text-align: right;\">\n",
       "      <th></th>\n",
       "      <th>sVideoPath</th>\n",
       "      <th>s2</th>\n",
       "      <th>nLabel</th>\n",
       "      <th>sTrain_val</th>\n",
       "      <th>sFrameDir</th>\n",
       "    </tr>\n",
       "  </thead>\n",
       "  <tbody>\n",
       "    <tr>\n",
       "      <th>0</th>\n",
       "      <td>train/001/M_00001.avi</td>\n",
       "      <td>train/001/K_00001.avi</td>\n",
       "      <td>26</td>\n",
       "      <td>train</td>\n",
       "      <td>train/26/M_00001</td>\n",
       "    </tr>\n",
       "    <tr>\n",
       "      <th>1</th>\n",
       "      <td>train/001/M_00002.avi</td>\n",
       "      <td>train/001/K_00002.avi</td>\n",
       "      <td>19</td>\n",
       "      <td>train</td>\n",
       "      <td>train/19/M_00002</td>\n",
       "    </tr>\n",
       "    <tr>\n",
       "      <th>2</th>\n",
       "      <td>train/001/M_00003.avi</td>\n",
       "      <td>train/001/K_00003.avi</td>\n",
       "      <td>20</td>\n",
       "      <td>train</td>\n",
       "      <td>train/20/M_00003</td>\n",
       "    </tr>\n",
       "    <tr>\n",
       "      <th>3</th>\n",
       "      <td>train/001/M_00004.avi</td>\n",
       "      <td>train/001/K_00004.avi</td>\n",
       "      <td>135</td>\n",
       "      <td>val</td>\n",
       "      <td>val/135/M_00004</td>\n",
       "    </tr>\n",
       "    <tr>\n",
       "      <th>4</th>\n",
       "      <td>train/001/M_00005.avi</td>\n",
       "      <td>train/001/K_00005.avi</td>\n",
       "      <td>152</td>\n",
       "      <td>train</td>\n",
       "      <td>train/152/M_00005</td>\n",
       "    </tr>\n",
       "  </tbody>\n",
       "</table>\n",
       "</div>"
      ],
      "text/plain": [
       "              sVideoPath                     s2  nLabel sTrain_val  \\\n",
       "0  train/001/M_00001.avi  train/001/K_00001.avi      26      train   \n",
       "1  train/001/M_00002.avi  train/001/K_00002.avi      19      train   \n",
       "2  train/001/M_00003.avi  train/001/K_00003.avi      20      train   \n",
       "3  train/001/M_00004.avi  train/001/K_00004.avi     135        val   \n",
       "4  train/001/M_00005.avi  train/001/K_00005.avi     152      train   \n",
       "\n",
       "           sFrameDir  \n",
       "0   train/26/M_00001  \n",
       "1   train/19/M_00002  \n",
       "2   train/20/M_00003  \n",
       "3    val/135/M_00004  \n",
       "4  train/152/M_00005  "
      ]
     },
     "execution_count": 89,
     "metadata": {},
     "output_type": "execute_result"
    }
   ],
   "source": [
    "dfFiles.head()"
   ]
  },
  {
   "cell_type": "code",
   "execution_count": 76,
   "metadata": {},
   "outputs": [
    {
     "data": {
      "text/plain": [
       "'/Users/Frederik/Dev/sign-language/03-transferlearning'"
      ]
     },
     "execution_count": 76,
     "metadata": {},
     "output_type": "execute_result"
    }
   ],
   "source": [
    "os.getcwd()"
   ]
  },
  {
   "cell_type": "code",
   "execution_count": 82,
   "metadata": {},
   "outputs": [
    {
     "data": {
      "text/plain": [
       "200"
      ]
     },
     "execution_count": 82,
     "metadata": {},
     "output_type": "execute_result"
    }
   ],
   "source": [
    "len(glob.glob(\"data/1-frame/*/*/*/*.jpg\"))"
   ]
  },
  {
   "cell_type": "code",
   "execution_count": 47,
   "metadata": {},
   "outputs": [
    {
     "data": {
      "text/plain": [
       "nLabel\n",
       "1      161\n",
       "2      324\n",
       "3      499\n",
       "4      677\n",
       "5     1528\n",
       "6     1699\n",
       "7     1873\n",
       "8     2248\n",
       "9     2419\n",
       "10    2774\n",
       "dtype: int64"
      ]
     },
     "execution_count": 47,
     "metadata": {},
     "output_type": "execute_result"
    }
   ],
   "source": [
    "# how many videos in first n classes?\n",
    "seLabels.sort_index().cumsum().head(10)"
   ]
  },
  {
   "cell_type": "code",
   "execution_count": 49,
   "metadata": {},
   "outputs": [
    {
     "data": {
      "text/html": [
       "<div>\n",
       "<style scoped>\n",
       "    .dataframe tbody tr th:only-of-type {\n",
       "        vertical-align: middle;\n",
       "    }\n",
       "\n",
       "    .dataframe tbody tr th {\n",
       "        vertical-align: top;\n",
       "    }\n",
       "\n",
       "    .dataframe thead th {\n",
       "        text-align: right;\n",
       "    }\n",
       "</style>\n",
       "<table border=\"1\" class=\"dataframe\">\n",
       "  <thead>\n",
       "    <tr style=\"text-align: right;\">\n",
       "      <th></th>\n",
       "      <th>nLabel</th>\n",
       "      <th>occurances</th>\n",
       "    </tr>\n",
       "  </thead>\n",
       "  <tbody>\n",
       "    <tr>\n",
       "      <th>0</th>\n",
       "      <td>5</td>\n",
       "      <td>851</td>\n",
       "    </tr>\n",
       "    <tr>\n",
       "      <th>1</th>\n",
       "      <td>19</td>\n",
       "      <td>492</td>\n",
       "    </tr>\n",
       "    <tr>\n",
       "      <th>2</th>\n",
       "      <td>38</td>\n",
       "      <td>459</td>\n",
       "    </tr>\n",
       "    <tr>\n",
       "      <th>3</th>\n",
       "      <td>37</td>\n",
       "      <td>377</td>\n",
       "    </tr>\n",
       "    <tr>\n",
       "      <th>4</th>\n",
       "      <td>8</td>\n",
       "      <td>375</td>\n",
       "    </tr>\n",
       "  </tbody>\n",
       "</table>\n",
       "</div>"
      ],
      "text/plain": [
       "   nLabel  occurances\n",
       "0       5         851\n",
       "1      19         492\n",
       "2      38         459\n",
       "3      37         377\n",
       "4       8         375"
      ]
     },
     "execution_count": 49,
     "metadata": {},
     "output_type": "execute_result"
    }
   ],
   "source": [
    "dfLabels = pd.DataFrame(seLabels, columns=[\"occurances\"]).reset_index()\n",
    "dfLabels.head()"
   ]
  },
  {
   "cell_type": "code",
   "execution_count": 50,
   "metadata": {},
   "outputs": [],
   "source": [
    "dfLabels[\"sLabel\"] = dfLabels.nLabel.astype(str)"
   ]
  },
  {
   "cell_type": "code",
   "execution_count": 51,
   "metadata": {},
   "outputs": [
    {
     "data": {
      "text/html": [
       "<div>\n",
       "<style scoped>\n",
       "    .dataframe tbody tr th:only-of-type {\n",
       "        vertical-align: middle;\n",
       "    }\n",
       "\n",
       "    .dataframe tbody tr th {\n",
       "        vertical-align: top;\n",
       "    }\n",
       "\n",
       "    .dataframe thead th {\n",
       "        text-align: right;\n",
       "    }\n",
       "</style>\n",
       "<table border=\"1\" class=\"dataframe\">\n",
       "  <thead>\n",
       "    <tr style=\"text-align: right;\">\n",
       "      <th></th>\n",
       "      <th>index</th>\n",
       "      <th>nLabel</th>\n",
       "      <th>occurances</th>\n",
       "      <th>sLabel</th>\n",
       "    </tr>\n",
       "  </thead>\n",
       "  <tbody>\n",
       "    <tr>\n",
       "      <th>0</th>\n",
       "      <td>78</td>\n",
       "      <td>1</td>\n",
       "      <td>161</td>\n",
       "      <td>1</td>\n",
       "    </tr>\n",
       "    <tr>\n",
       "      <th>1</th>\n",
       "      <td>6</td>\n",
       "      <td>10</td>\n",
       "      <td>355</td>\n",
       "      <td>10</td>\n",
       "    </tr>\n",
       "    <tr>\n",
       "      <th>2</th>\n",
       "      <td>199</td>\n",
       "      <td>100</td>\n",
       "      <td>85</td>\n",
       "      <td>100</td>\n",
       "    </tr>\n",
       "    <tr>\n",
       "      <th>3</th>\n",
       "      <td>216</td>\n",
       "      <td>101</td>\n",
       "      <td>82</td>\n",
       "      <td>101</td>\n",
       "    </tr>\n",
       "    <tr>\n",
       "      <th>4</th>\n",
       "      <td>191</td>\n",
       "      <td>102</td>\n",
       "      <td>87</td>\n",
       "      <td>102</td>\n",
       "    </tr>\n",
       "    <tr>\n",
       "      <th>5</th>\n",
       "      <td>220</td>\n",
       "      <td>103</td>\n",
       "      <td>80</td>\n",
       "      <td>103</td>\n",
       "    </tr>\n",
       "    <tr>\n",
       "      <th>6</th>\n",
       "      <td>166</td>\n",
       "      <td>104</td>\n",
       "      <td>104</td>\n",
       "      <td>104</td>\n",
       "    </tr>\n",
       "    <tr>\n",
       "      <th>7</th>\n",
       "      <td>178</td>\n",
       "      <td>105</td>\n",
       "      <td>96</td>\n",
       "      <td>105</td>\n",
       "    </tr>\n",
       "    <tr>\n",
       "      <th>8</th>\n",
       "      <td>186</td>\n",
       "      <td>106</td>\n",
       "      <td>91</td>\n",
       "      <td>106</td>\n",
       "    </tr>\n",
       "    <tr>\n",
       "      <th>9</th>\n",
       "      <td>196</td>\n",
       "      <td>107</td>\n",
       "      <td>86</td>\n",
       "      <td>107</td>\n",
       "    </tr>\n",
       "  </tbody>\n",
       "</table>\n",
       "</div>"
      ],
      "text/plain": [
       "   index  nLabel  occurances sLabel\n",
       "0     78       1         161      1\n",
       "1      6      10         355     10\n",
       "2    199     100          85    100\n",
       "3    216     101          82    101\n",
       "4    191     102          87    102\n",
       "5    220     103          80    103\n",
       "6    166     104         104    104\n",
       "7    178     105          96    105\n",
       "8    186     106          91    106\n",
       "9    196     107          86    107"
      ]
     },
     "execution_count": 51,
     "metadata": {},
     "output_type": "execute_result"
    }
   ],
   "source": [
    "dfLabels = dfLabels.sort_values(\"sLabel\").reset_index()\n",
    "dfLabels.head(10)"
   ]
  },
  {
   "cell_type": "code",
   "execution_count": 52,
   "metadata": {},
   "outputs": [
    {
     "data": {
      "text/plain": [
       "0     161\n",
       "1     516\n",
       "2     601\n",
       "3     683\n",
       "4     770\n",
       "5     850\n",
       "6     954\n",
       "7    1050\n",
       "8    1141\n",
       "9    1227\n",
       "Name: occurances, dtype: int64"
      ]
     },
     "execution_count": 52,
     "metadata": {},
     "output_type": "execute_result"
    }
   ],
   "source": [
    "dfLabels.occurances.cumsum().head(10)"
   ]
  },
  {
   "cell_type": "code",
   "execution_count": null,
   "metadata": {},
   "outputs": [],
   "source": []
  }
 ],
 "metadata": {
  "kernelspec": {
   "display_name": "Python 3",
   "language": "python",
   "name": "python3"
  },
  "language_info": {
   "codemirror_mode": {
    "name": "ipython",
    "version": 3
   },
   "file_extension": ".py",
   "mimetype": "text/x-python",
   "name": "python",
   "nbconvert_exporter": "python",
   "pygments_lexer": "ipython3",
   "version": "3.6.4"
  }
 },
 "nbformat": 4,
 "nbformat_minor": 2
}
