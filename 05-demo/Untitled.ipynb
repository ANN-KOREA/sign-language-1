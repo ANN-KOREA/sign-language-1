{
 "cells": [
  {
   "cell_type": "code",
   "execution_count": 1,
   "metadata": {},
   "outputs": [],
   "source": [
    "import pandas as pd"
   ]
  },
  {
   "cell_type": "code",
   "execution_count": 10,
   "metadata": {},
   "outputs": [],
   "source": [
    "# load label description: nIndex,sLabel,sNameLong,sCat,sDetail\n",
    "sLabelsFile = \"../datasets/04-chalearn/labels.csv\"\n",
    "dfLabels = pd.read_csv(sLabelsFile, header = 0, index_col = 0, dtype = {\"sLabel\":str})"
   ]
  },
  {
   "cell_type": "code",
   "execution_count": 11,
   "metadata": {},
   "outputs": [
    {
     "data": {
      "text/html": [
       "<div>\n",
       "<style scoped>\n",
       "    .dataframe tbody tr th:only-of-type {\n",
       "        vertical-align: middle;\n",
       "    }\n",
       "\n",
       "    .dataframe tbody tr th {\n",
       "        vertical-align: top;\n",
       "    }\n",
       "\n",
       "    .dataframe thead th {\n",
       "        text-align: right;\n",
       "    }\n",
       "</style>\n",
       "<table border=\"1\" class=\"dataframe\">\n",
       "  <thead>\n",
       "    <tr style=\"text-align: right;\">\n",
       "      <th></th>\n",
       "      <th>sLabel</th>\n",
       "      <th>sNameLong</th>\n",
       "      <th>sCat</th>\n",
       "      <th>sDetail</th>\n",
       "    </tr>\n",
       "  </thead>\n",
       "  <tbody>\n",
       "    <tr>\n",
       "      <th>0</th>\n",
       "      <td>001</td>\n",
       "      <td>Mudra1/Ardhachandra</td>\n",
       "      <td>Mudra1</td>\n",
       "      <td>Ardhachandra</td>\n",
       "    </tr>\n",
       "    <tr>\n",
       "      <th>1</th>\n",
       "      <td>002</td>\n",
       "      <td>Mudra1/Ardhapataka</td>\n",
       "      <td>Mudra1</td>\n",
       "      <td>Ardhapataka</td>\n",
       "    </tr>\n",
       "    <tr>\n",
       "      <th>2</th>\n",
       "      <td>003</td>\n",
       "      <td>Mudra1/Chandrakala</td>\n",
       "      <td>Mudra1</td>\n",
       "      <td>Chandrakala</td>\n",
       "    </tr>\n",
       "    <tr>\n",
       "      <th>3</th>\n",
       "      <td>004</td>\n",
       "      <td>Mudra1/Chatura</td>\n",
       "      <td>Mudra1</td>\n",
       "      <td>Chatura</td>\n",
       "    </tr>\n",
       "    <tr>\n",
       "      <th>4</th>\n",
       "      <td>005</td>\n",
       "      <td>Mudra1/Kartarimukha</td>\n",
       "      <td>Mudra1</td>\n",
       "      <td>Kartarimukha</td>\n",
       "    </tr>\n",
       "  </tbody>\n",
       "</table>\n",
       "</div>"
      ],
      "text/plain": [
       "  sLabel            sNameLong    sCat       sDetail\n",
       "0    001  Mudra1/Ardhachandra  Mudra1  Ardhachandra\n",
       "1    002   Mudra1/Ardhapataka  Mudra1   Ardhapataka\n",
       "2    003   Mudra1/Chandrakala  Mudra1   Chandrakala\n",
       "3    004       Mudra1/Chatura  Mudra1       Chatura\n",
       "4    005  Mudra1/Kartarimukha  Mudra1  Kartarimukha"
      ]
     },
     "execution_count": 11,
     "metadata": {},
     "output_type": "execute_result"
    }
   ],
   "source": [
    "dfLabels.head()"
   ]
  },
  {
   "cell_type": "code",
   "execution_count": 13,
   "metadata": {},
   "outputs": [
    {
     "data": {
      "text/plain": [
       "'Kartarimukha'"
      ]
     },
     "execution_count": 13,
     "metadata": {},
     "output_type": "execute_result"
    }
   ],
   "source": [
    "sLabelTrue = \"005\"\n",
    "sLabelTrueDetail = dfLabels.set_index(\"sLabel\").loc[sLabelTrue, \"sDetail\"]\n",
    "sLabelTrueDetail"
   ]
  },
  {
   "cell_type": "code",
   "execution_count": null,
   "metadata": {},
   "outputs": [],
   "source": []
  }
 ],
 "metadata": {
  "kernelspec": {
   "display_name": "Python 3",
   "language": "python",
   "name": "python3"
  },
  "language_info": {
   "codemirror_mode": {
    "name": "ipython",
    "version": 3
   },
   "file_extension": ".py",
   "mimetype": "text/x-python",
   "name": "python",
   "nbconvert_exporter": "python",
   "pygments_lexer": "ipython3",
   "version": "3.6.4"
  }
 },
 "nbformat": 4,
 "nbformat_minor": 2
}
