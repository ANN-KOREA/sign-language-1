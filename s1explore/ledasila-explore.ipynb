{
 "cells": [
  {
   "cell_type": "markdown",
   "metadata": {},
   "source": [
    "# Analyze LedaSila database \n",
    "\n",
    "* containing 33.000 videos with Österreichische Gebärdensprache\n",
    "\n",
    "* property of Alpen Adria Universität Klagenfurt, http://ledasila.aau.at"
   ]
  },
  {
   "cell_type": "code",
   "execution_count": 1,
   "metadata": {},
   "outputs": [],
   "source": [
    "import numpy as np\n",
    "import pandas as pd\n",
    "\n",
    "import os\n",
    "import glob\n",
    "\n",
    "import matplotlib.pyplot as plt\n",
    "import seaborn as sns\n",
    "sns.set()\n",
    "%matplotlib inline"
   ]
  },
  {
   "cell_type": "code",
   "execution_count": 2,
   "metadata": {},
   "outputs": [],
   "source": [
    "# find all folders with videos\n",
    "# in each folder search all video-files of Leadsila database, read filenames, add to dataframe\n",
    "# extract first word and analyze freqency"
   ]
  },
  {
   "cell_type": "code",
   "execution_count": 3,
   "metadata": {},
   "outputs": [
    {
     "data": {
      "text/plain": [
       "'/Users/Frederik/Dev/sign-language/datasets/01-ledasila'"
      ]
     },
     "execution_count": 3,
     "metadata": {},
     "output_type": "execute_result"
    }
   ],
   "source": [
    "os.getcwd()\n",
    "os.chdir(\"../datasets/01-ledasila\")\n",
    "os.getcwd()"
   ]
  },
  {
   "cell_type": "code",
   "execution_count": 4,
   "metadata": {},
   "outputs": [],
   "source": [
    "dfFiles = pd.DataFrame(glob.glob(\"**\", recursive=True), dtype=str, columns=[\"sPath\"])"
   ]
  },
  {
   "cell_type": "code",
   "execution_count": 5,
   "metadata": {},
   "outputs": [
    {
     "name": "stdout",
     "output_type": "stream",
     "text": [
      "<class 'pandas.core.frame.DataFrame'>\n",
      "RangeIndex: 33337 entries, 0 to 33336\n",
      "Data columns (total 1 columns):\n",
      "sPath    33337 non-null object\n",
      "dtypes: object(1)\n",
      "memory usage: 260.5+ KB\n"
     ]
    }
   ],
   "source": [
    "dfFiles.info()"
   ]
  },
  {
   "cell_type": "code",
   "execution_count": 6,
   "metadata": {},
   "outputs": [
    {
     "data": {
      "text/html": [
       "<div>\n",
       "<style scoped>\n",
       "    .dataframe tbody tr th:only-of-type {\n",
       "        vertical-align: middle;\n",
       "    }\n",
       "\n",
       "    .dataframe tbody tr th {\n",
       "        vertical-align: top;\n",
       "    }\n",
       "\n",
       "    .dataframe thead th {\n",
       "        text-align: right;\n",
       "    }\n",
       "</style>\n",
       "<table border=\"1\" class=\"dataframe\">\n",
       "  <thead>\n",
       "    <tr style=\"text-align: right;\">\n",
       "      <th></th>\n",
       "      <th>sPath</th>\n",
       "    </tr>\n",
       "  </thead>\n",
       "  <tbody>\n",
       "    <tr>\n",
       "      <th>0</th>\n",
       "      <td>_tar</td>\n",
       "    </tr>\n",
       "    <tr>\n",
       "      <th>1</th>\n",
       "      <td>_tar/ÖGS Gebärden.tar</td>\n",
       "    </tr>\n",
       "    <tr>\n",
       "      <th>2</th>\n",
       "      <td>r</td>\n",
       "    </tr>\n",
       "    <tr>\n",
       "      <th>3</th>\n",
       "      <td>r/Ringen---k---vid-77479---lsid-46634.mp4</td>\n",
       "    </tr>\n",
       "    <tr>\n",
       "      <th>4</th>\n",
       "      <td>r/Rote__R_uebe---ogs---vid-27931---lsid-29402.mp4</td>\n",
       "    </tr>\n",
       "    <tr>\n",
       "      <th>5</th>\n",
       "      <td>r/reden---k---vid-76401---lsid-46120.mp4</td>\n",
       "    </tr>\n",
       "    <tr>\n",
       "      <th>6</th>\n",
       "      <td>r/rauchen---ogs---vid-26975---lsid-28269.mp4</td>\n",
       "    </tr>\n",
       "    <tr>\n",
       "      <th>7</th>\n",
       "      <td>r/riechen---s---vid-76597---lsid-46215.mp4</td>\n",
       "    </tr>\n",
       "    <tr>\n",
       "      <th>8</th>\n",
       "      <td>r/Rahm---v---vid-11807---lsid-15423.mp4</td>\n",
       "    </tr>\n",
       "    <tr>\n",
       "      <th>9</th>\n",
       "      <td>r/rund---v---vid-55914---lsid-39943.mp4</td>\n",
       "    </tr>\n",
       "    <tr>\n",
       "      <th>10</th>\n",
       "      <td>r/Religion---t-ooe---vid-76549---lsid-46193.mp4</td>\n",
       "    </tr>\n",
       "    <tr>\n",
       "      <th>11</th>\n",
       "      <td>r/roh---noe-w---vid-76611---lsid-46221.mp4</td>\n",
       "    </tr>\n",
       "    <tr>\n",
       "      <th>12</th>\n",
       "      <td>r/reden---s---vid-76407---lsid-46123.mp4</td>\n",
       "    </tr>\n",
       "    <tr>\n",
       "      <th>13</th>\n",
       "      <td>r/Rathaus---w-v-k-ogs---vid-25261---lsid-19488...</td>\n",
       "    </tr>\n",
       "    <tr>\n",
       "      <th>14</th>\n",
       "      <td>r/Raumpflegerin---k---vid-56443---lsid-40164.mp4</td>\n",
       "    </tr>\n",
       "  </tbody>\n",
       "</table>\n",
       "</div>"
      ],
      "text/plain": [
       "                                                sPath\n",
       "0                                                _tar\n",
       "1                             _tar/ÖGS Gebärden.tar\n",
       "2                                                   r\n",
       "3           r/Ringen---k---vid-77479---lsid-46634.mp4\n",
       "4   r/Rote__R_uebe---ogs---vid-27931---lsid-29402.mp4\n",
       "5            r/reden---k---vid-76401---lsid-46120.mp4\n",
       "6        r/rauchen---ogs---vid-26975---lsid-28269.mp4\n",
       "7          r/riechen---s---vid-76597---lsid-46215.mp4\n",
       "8             r/Rahm---v---vid-11807---lsid-15423.mp4\n",
       "9             r/rund---v---vid-55914---lsid-39943.mp4\n",
       "10    r/Religion---t-ooe---vid-76549---lsid-46193.mp4\n",
       "11         r/roh---noe-w---vid-76611---lsid-46221.mp4\n",
       "12           r/reden---s---vid-76407---lsid-46123.mp4\n",
       "13  r/Rathaus---w-v-k-ogs---vid-25261---lsid-19488...\n",
       "14   r/Raumpflegerin---k---vid-56443---lsid-40164.mp4"
      ]
     },
     "execution_count": 6,
     "metadata": {},
     "output_type": "execute_result"
    }
   ],
   "source": [
    "dfFiles.head(15)"
   ]
  },
  {
   "cell_type": "code",
   "execution_count": 7,
   "metadata": {},
   "outputs": [],
   "source": [
    "#for i in range(dfFiles.shape[0]):\n",
    "#    sPath = dfFiles.loc[:,\"sPath\"]\n",
    "#    sFile = sPath.split(\"/\")[1]\n",
    "    "
   ]
  },
  {
   "cell_type": "code",
   "execution_count": 8,
   "metadata": {},
   "outputs": [],
   "source": [
    "# delete all folders/files without extension\n",
    "dfFiles.loc[dfFiles.sPath.apply(lambda s: len(s.split(\".\"))<=1),:] = None\n",
    "dfFiles.dropna(inplace=True)"
   ]
  },
  {
   "cell_type": "code",
   "execution_count": 9,
   "metadata": {},
   "outputs": [],
   "source": [
    "# only retain mp4 files\n",
    "dfFiles.loc[dfFiles.sPath.apply(lambda s: s.split(\".\")[1] != \"mp4\"),:] = None\n",
    "dfFiles.dropna(inplace=True)\n",
    "#dfFiles.head(15)"
   ]
  },
  {
   "cell_type": "code",
   "execution_count": 11,
   "metadata": {},
   "outputs": [
    {
     "data": {
      "text/html": [
       "<div>\n",
       "<style scoped>\n",
       "    .dataframe tbody tr th:only-of-type {\n",
       "        vertical-align: middle;\n",
       "    }\n",
       "\n",
       "    .dataframe tbody tr th {\n",
       "        vertical-align: top;\n",
       "    }\n",
       "\n",
       "    .dataframe thead th {\n",
       "        text-align: right;\n",
       "    }\n",
       "</style>\n",
       "<table border=\"1\" class=\"dataframe\">\n",
       "  <thead>\n",
       "    <tr style=\"text-align: right;\">\n",
       "      <th></th>\n",
       "      <th>sPath</th>\n",
       "      <th>sWord</th>\n",
       "    </tr>\n",
       "  </thead>\n",
       "  <tbody>\n",
       "    <tr>\n",
       "      <th>20827</th>\n",
       "      <td>d/Designer---ogs---vid-77920---lsid-46845.mp4</td>\n",
       "      <td>Designer</td>\n",
       "    </tr>\n",
       "    <tr>\n",
       "      <th>6713</th>\n",
       "      <td>s/Staat---st---vid-66381---lsid-42451.mp4</td>\n",
       "      <td>Staat</td>\n",
       "    </tr>\n",
       "    <tr>\n",
       "      <th>17674</th>\n",
       "      <td>m/M_aerchen---t---vid-71050---lsid-43829.mp4</td>\n",
       "      <td>M_aerchen</td>\n",
       "    </tr>\n",
       "    <tr>\n",
       "      <th>11152</th>\n",
       "      <td>a/Anzahlung---ogs---vid-39004---lsid-32900.mp4</td>\n",
       "      <td>Anzahlung</td>\n",
       "    </tr>\n",
       "    <tr>\n",
       "      <th>4816</th>\n",
       "      <td>z/zehn__Millionen___KK10_PP000_PP000_ZZ---ogs-...</td>\n",
       "      <td>zehn__Millionen___KK10_PP000_PP000_ZZ</td>\n",
       "    </tr>\n",
       "  </tbody>\n",
       "</table>\n",
       "</div>"
      ],
      "text/plain": [
       "                                                   sPath  \\\n",
       "20827      d/Designer---ogs---vid-77920---lsid-46845.mp4   \n",
       "6713           s/Staat---st---vid-66381---lsid-42451.mp4   \n",
       "17674       m/M_aerchen---t---vid-71050---lsid-43829.mp4   \n",
       "11152     a/Anzahlung---ogs---vid-39004---lsid-32900.mp4   \n",
       "4816   z/zehn__Millionen___KK10_PP000_PP000_ZZ---ogs-...   \n",
       "\n",
       "                                       sWord  \n",
       "20827                               Designer  \n",
       "6713                                   Staat  \n",
       "17674                              M_aerchen  \n",
       "11152                              Anzahlung  \n",
       "4816   zehn__Millionen___KK10_PP000_PP000_ZZ  "
      ]
     },
     "execution_count": 11,
     "metadata": {},
     "output_type": "execute_result"
    }
   ],
   "source": [
    "# extract word\n",
    "dfFiles[\"sWord\"] = dfFiles.sPath.apply(lambda s: s.split(\"/\")[1].split(\"-\")[0])\n",
    "dfFiles.sample(5)"
   ]
  },
  {
   "cell_type": "code",
   "execution_count": 12,
   "metadata": {},
   "outputs": [
    {
     "data": {
      "text/plain": [
       "33308"
      ]
     },
     "execution_count": 12,
     "metadata": {},
     "output_type": "execute_result"
    }
   ],
   "source": [
    "# number of videos\n",
    "dfFiles.shape[0]"
   ]
  },
  {
   "cell_type": "code",
   "execution_count": 13,
   "metadata": {},
   "outputs": [
    {
     "data": {
      "text/plain": [
       "15684"
      ]
     },
     "execution_count": 13,
     "metadata": {},
     "output_type": "execute_result"
    }
   ],
   "source": [
    "# unique words\n",
    "dfFiles.sWord.unique().shape[0]"
   ]
  },
  {
   "cell_type": "code",
   "execution_count": 14,
   "metadata": {},
   "outputs": [
    {
     "data": {
      "text/html": [
       "<div>\n",
       "<style scoped>\n",
       "    .dataframe tbody tr th:only-of-type {\n",
       "        vertical-align: middle;\n",
       "    }\n",
       "\n",
       "    .dataframe tbody tr th {\n",
       "        vertical-align: top;\n",
       "    }\n",
       "\n",
       "    .dataframe thead th {\n",
       "        text-align: right;\n",
       "    }\n",
       "</style>\n",
       "<table border=\"1\" class=\"dataframe\">\n",
       "  <thead>\n",
       "    <tr style=\"text-align: right;\">\n",
       "      <th></th>\n",
       "      <th>sWord</th>\n",
       "      <th>nCount</th>\n",
       "    </tr>\n",
       "  </thead>\n",
       "  <tbody>\n",
       "    <tr>\n",
       "      <th>0</th>\n",
       "      <td>nein</td>\n",
       "      <td>34</td>\n",
       "    </tr>\n",
       "    <tr>\n",
       "      <th>1</th>\n",
       "      <td>schw_aermen</td>\n",
       "      <td>27</td>\n",
       "    </tr>\n",
       "    <tr>\n",
       "      <th>2</th>\n",
       "      <td>was</td>\n",
       "      <td>25</td>\n",
       "    </tr>\n",
       "    <tr>\n",
       "      <th>3</th>\n",
       "      <td>wann</td>\n",
       "      <td>24</td>\n",
       "    </tr>\n",
       "    <tr>\n",
       "      <th>4</th>\n",
       "      <td>nicht</td>\n",
       "      <td>22</td>\n",
       "    </tr>\n",
       "    <tr>\n",
       "      <th>5</th>\n",
       "      <td>fertig</td>\n",
       "      <td>22</td>\n",
       "    </tr>\n",
       "    <tr>\n",
       "      <th>6</th>\n",
       "      <td>ja</td>\n",
       "      <td>21</td>\n",
       "    </tr>\n",
       "    <tr>\n",
       "      <th>7</th>\n",
       "      <td>Banane</td>\n",
       "      <td>20</td>\n",
       "    </tr>\n",
       "    <tr>\n",
       "      <th>8</th>\n",
       "      <td>Motorrad</td>\n",
       "      <td>20</td>\n",
       "    </tr>\n",
       "    <tr>\n",
       "      <th>9</th>\n",
       "      <td>Fenster</td>\n",
       "      <td>20</td>\n",
       "    </tr>\n",
       "    <tr>\n",
       "      <th>10</th>\n",
       "      <td>Oma</td>\n",
       "      <td>20</td>\n",
       "    </tr>\n",
       "    <tr>\n",
       "      <th>11</th>\n",
       "      <td>Dezember</td>\n",
       "      <td>19</td>\n",
       "    </tr>\n",
       "    <tr>\n",
       "      <th>12</th>\n",
       "      <td>Schlafzimmer</td>\n",
       "      <td>19</td>\n",
       "    </tr>\n",
       "    <tr>\n",
       "      <th>13</th>\n",
       "      <td>Schildkr_oete</td>\n",
       "      <td>19</td>\n",
       "    </tr>\n",
       "    <tr>\n",
       "      <th>14</th>\n",
       "      <td>Nachmittag</td>\n",
       "      <td>19</td>\n",
       "    </tr>\n",
       "    <tr>\n",
       "      <th>15</th>\n",
       "      <td>K_uehlschrank</td>\n",
       "      <td>19</td>\n",
       "    </tr>\n",
       "    <tr>\n",
       "      <th>16</th>\n",
       "      <td>Herd</td>\n",
       "      <td>18</td>\n",
       "    </tr>\n",
       "    <tr>\n",
       "      <th>17</th>\n",
       "      <td>Himmel</td>\n",
       "      <td>18</td>\n",
       "    </tr>\n",
       "    <tr>\n",
       "      <th>18</th>\n",
       "      <td>Computer</td>\n",
       "      <td>18</td>\n",
       "    </tr>\n",
       "    <tr>\n",
       "      <th>19</th>\n",
       "      <td>Loch</td>\n",
       "      <td>18</td>\n",
       "    </tr>\n",
       "  </tbody>\n",
       "</table>\n",
       "</div>"
      ],
      "text/plain": [
       "            sWord  nCount\n",
       "0            nein      34\n",
       "1     schw_aermen      27\n",
       "2             was      25\n",
       "3            wann      24\n",
       "4           nicht      22\n",
       "5          fertig      22\n",
       "6              ja      21\n",
       "7          Banane      20\n",
       "8        Motorrad      20\n",
       "9         Fenster      20\n",
       "10            Oma      20\n",
       "11       Dezember      19\n",
       "12   Schlafzimmer      19\n",
       "13  Schildkr_oete      19\n",
       "14     Nachmittag      19\n",
       "15  K_uehlschrank      19\n",
       "16           Herd      18\n",
       "17         Himmel      18\n",
       "18       Computer      18\n",
       "19           Loch      18"
      ]
     },
     "execution_count": 14,
     "metadata": {},
     "output_type": "execute_result"
    }
   ],
   "source": [
    "dfWord_freq = dfFiles.groupby(\"sWord\").size().sort_values(ascending=False).reset_index(name=\"nCount\")\n",
    "dfWord_freq.iloc[:20,:]"
   ]
  },
  {
   "cell_type": "code",
   "execution_count": 15,
   "metadata": {},
   "outputs": [],
   "source": [
    "dfWord_freq[\"nCumSum\"] = dfWord_freq.nCount.cumsum()"
   ]
  },
  {
   "cell_type": "code",
   "execution_count": 16,
   "metadata": {},
   "outputs": [
    {
     "data": {
      "text/plain": [
       "(<matplotlib.axes._subplots.AxesSubplot at 0x1142bc048>,\n",
       " <matplotlib.axes._subplots.AxesSubplot at 0x113aecbe0>)"
      ]
     },
     "execution_count": 16,
     "metadata": {},
     "output_type": "execute_result"
    },
    {
     "data": {
      "image/png": "[encoded data removed]",
      "text/plain": [
       "<matplotlib.figure.Figure at 0x10ed93860>"
      ]
     },
     "metadata": {},
     "output_type": "display_data"
    },
    {
     "data": {
      "image/png": "[encoded data removed]",
      "text/plain": [
       "<matplotlib.figure.Figure at 0x113ad9208>"
      ]
     },
     "metadata": {},
     "output_type": "display_data"
    }
   ],
   "source": [
    "dfWord_freq.plot(y=\"nCount\", ), dfWord_freq.plot(y=\"nCumSum\")"
   ]
  },
  {
   "cell_type": "code",
   "execution_count": 18,
   "metadata": {},
   "outputs": [
    {
     "data": {
      "text/html": [
       "<div>\n",
       "<style scoped>\n",
       "    .dataframe tbody tr th:only-of-type {\n",
       "        vertical-align: middle;\n",
       "    }\n",
       "\n",
       "    .dataframe tbody tr th {\n",
       "        vertical-align: top;\n",
       "    }\n",
       "\n",
       "    .dataframe thead th {\n",
       "        text-align: right;\n",
       "    }\n",
       "</style>\n",
       "<table border=\"1\" class=\"dataframe\">\n",
       "  <thead>\n",
       "    <tr style=\"text-align: right;\">\n",
       "      <th></th>\n",
       "      <th>sWord</th>\n",
       "      <th>nCount</th>\n",
       "      <th>nCumSum</th>\n",
       "    </tr>\n",
       "  </thead>\n",
       "  <tbody>\n",
       "    <tr>\n",
       "      <th>6</th>\n",
       "      <td>ja</td>\n",
       "      <td>21</td>\n",
       "      <td>175</td>\n",
       "    </tr>\n",
       "    <tr>\n",
       "      <th>7</th>\n",
       "      <td>Banane</td>\n",
       "      <td>20</td>\n",
       "      <td>195</td>\n",
       "    </tr>\n",
       "    <tr>\n",
       "      <th>8</th>\n",
       "      <td>Motorrad</td>\n",
       "      <td>20</td>\n",
       "      <td>215</td>\n",
       "    </tr>\n",
       "    <tr>\n",
       "      <th>9</th>\n",
       "      <td>Fenster</td>\n",
       "      <td>20</td>\n",
       "      <td>235</td>\n",
       "    </tr>\n",
       "    <tr>\n",
       "      <th>10</th>\n",
       "      <td>Oma</td>\n",
       "      <td>20</td>\n",
       "      <td>255</td>\n",
       "    </tr>\n",
       "  </tbody>\n",
       "</table>\n",
       "</div>"
      ],
      "text/plain": [
       "       sWord  nCount  nCumSum\n",
       "6         ja      21      175\n",
       "7     Banane      20      195\n",
       "8   Motorrad      20      215\n",
       "9    Fenster      20      235\n",
       "10       Oma      20      255"
      ]
     },
     "execution_count": 18,
     "metadata": {},
     "output_type": "execute_result"
    }
   ],
   "source": [
    "dfWord_freq.query(\"nCount >= 20\").tail()"
   ]
  },
  {
   "cell_type": "markdown",
   "metadata": {},
   "source": [
    "---\n",
    "## Summary of training data\n",
    "\n",
    "Total: 33,300 training videos, 15,700 different words\n",
    "\n",
    "Min 20 occurences: 10 words, total of 255 videos\n",
    "\n",
    "Min 18 occurences: 20 words, total of 440 videos\n",
    "\n",
    "Min 15 occurences: 84 words, total of 1443 videos\n",
    "\n",
    "Min 10 occurences: 592 words, total of 7,271 videos\n",
    "\n",
    "Min 3 occurences: 2519 words, total of 18872 videos\n",
    "\n",
    "---"
   ]
  },
  {
   "cell_type": "code",
   "execution_count": null,
   "metadata": {},
   "outputs": [],
   "source": []
  }
 ],
 "metadata": {
  "kernelspec": {
   "display_name": "Python 3",
   "language": "python",
   "name": "python3"
  },
  "language_info": {
   "codemirror_mode": {
    "name": "ipython",
    "version": 3
   },
   "file_extension": ".py",
   "mimetype": "text/x-python",
   "name": "python",
   "nbconvert_exporter": "python",
   "pygments_lexer": "ipython3",
   "version": "3.6.4"
  }
 },
 "nbformat": 4,
 "nbformat_minor": 2
}
