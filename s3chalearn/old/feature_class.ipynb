{
 "cells": [
  {
   "cell_type": "code",
   "execution_count": 72,
   "metadata": {},
   "outputs": [],
   "source": [
    "import numpy as np\n",
    "import pandas as pd\n",
    "\n",
    "import os\n",
    "import glob\n",
    "\n",
    "from sklearn.preprocessing import LabelEncoder\n",
    "from sklearn.preprocessing import OneHotEncoder"
   ]
  },
  {
   "cell_type": "code",
   "execution_count": 4,
   "metadata": {},
   "outputs": [
    {
     "data": {
      "text/plain": [
       "'/Users/Frederik/Dev/sign-language/03a-chalearn'"
      ]
     },
     "execution_count": 4,
     "metadata": {},
     "output_type": "execute_result"
    }
   ],
   "source": [
    "os.getcwd()"
   ]
  },
  {
   "cell_type": "code",
   "execution_count": 21,
   "metadata": {},
   "outputs": [
    {
     "data": {
      "text/plain": [
       "True"
      ]
     },
     "execution_count": 21,
     "metadata": {},
     "output_type": "execute_result"
    }
   ],
   "source": [
    "os.path.exists(sFeaturesTrain)"
   ]
  },
  {
   "cell_type": "code",
   "execution_count": 104,
   "metadata": {},
   "outputs": [],
   "source": [
    "class Features():\n",
    "    \"\"\" Read features from disc, check size and save in arrays \"\"\"\n",
    "\n",
    "    def __init__(self, sPath, nFramesNorm, nFeatureLength):\n",
    "        \n",
    "        # retrieve all feature files. Expected folder structure .../train/label/feature.npy\n",
    "        self.liPaths = glob.glob(os.path.join(sPath, \"*\", \"*.npy\"))\n",
    "        self.nSamples = len(self.liPaths)\n",
    "        \n",
    "        self.arFeatures = np.zeros((self.nSamples, nFramesNorm, nFeatureLength))\n",
    "        \n",
    "        # loop through all feature files\n",
    "        liLabels = []\n",
    "        for i in range(self.nSamples):\n",
    "            \n",
    "            # Get the sequence from disc\n",
    "            sFile = self.liPaths[i]\n",
    "            arF = np.load(sFile)\n",
    "            if (arF.shape != (nFramesNorm, nFeatureLength)):\n",
    "                print(\"Error: %s has wrong shape %s\" % (sFile, arF.shape))\n",
    "            self.arFeatures[i] = arF\n",
    "            \n",
    "            # Extract the label from path\n",
    "            sLabel = sFile.split(\"/\")[-2]\n",
    "            liLabels.append(sLabel)\n",
    "            \n",
    "        # labels\n",
    "        self.liLabels = sorted(np.unique(liLabels))\n",
    "        self.nLabels = len(self.liLabels)\n",
    "        \n",
    "        # one hot encode labels\n",
    "        label_encoder = LabelEncoder()\n",
    "        arLabelsNumerical = label_encoder.fit_transform(liLabels).reshape(-1,1)\n",
    "        onehot_encoder = OneHotEncoder(sparse=False)\n",
    "        self.arLabelsOneHot = onehot_encoder.fit_transform(arLabelsNumerical)\n",
    "        \n",
    "        print(\"Loaded %d samples with %d labels from %s\" % (self.nSamples, self.nLabels, sPath))\n",
    "        \n",
    "        return"
   ]
  },
  {
   "cell_type": "code",
   "execution_count": 105,
   "metadata": {},
   "outputs": [
    {
     "name": "stdout",
     "output_type": "stream",
     "text": [
      "Loaded 22 samples with 2 labels from data/2-feature/train\n"
     ]
    }
   ],
   "source": [
    "sFeaturesTrain = \"data/2-feature/train\"\n",
    "oFeaturesTrain = Features(sFeaturesTrain, 20, 2048)"
   ]
  },
  {
   "cell_type": "code",
   "execution_count": 106,
   "metadata": {},
   "outputs": [
    {
     "name": "stdout",
     "output_type": "stream",
     "text": [
      "22\n",
      "(22, 20, 2048)\n",
      "2 ['2', 'xyz']\n",
      "['data/2-feature/train/xyz/M_06366.npy'\n",
      " 'data/2-feature/train/xyz/M_27155.npy'\n",
      " 'data/2-feature/train/xyz/M_01805.npy'\n",
      " 'data/2-feature/train/xyz/M_10062.npy'\n",
      " 'data/2-feature/train/xyz/M_31323.npy'\n",
      " 'data/2-feature/train/xyz/M_09800.npy'\n",
      " 'data/2-feature/train/xyz/M_13108.npy'\n",
      " 'data/2-feature/train/xyz/M_32108.npy'\n",
      " 'data/2-feature/train/xyz/M_26421.npy'\n",
      " 'data/2-feature/train/xyz/M_09789.npy'\n",
      " 'data/2-feature/train/xyz/M_13100.npy'\n",
      " 'data/2-feature/train/xyz/M_12750.npy'\n",
      " 'data/2-feature/train/xyz/M_08342.npy'\n",
      " 'data/2-feature/train/xyz/M_10055.npy'\n",
      " 'data/2-feature/train/xyz/M_09665.npy'\n",
      " 'data/2-feature/train/xyz/M_26282.npy'\n",
      " 'data/2-feature/train/xyz/M_32554.npy'\n",
      " 'data/2-feature/train/xyz/M_00915.npy'\n",
      " 'data/2-feature/train/2/M_06359.npy' 'data/2-feature/train/2/M_19600.npy'\n",
      " 'data/2-feature/train/2/M_22027.npy' 'data/2-feature/train/2/M_02871.npy']\n",
      "[[0. 1.]\n",
      " [0. 1.]\n",
      " [0. 1.]\n",
      " [0. 1.]\n",
      " [0. 1.]\n",
      " [0. 1.]\n",
      " [0. 1.]\n",
      " [0. 1.]\n",
      " [0. 1.]\n",
      " [0. 1.]\n",
      " [0. 1.]\n",
      " [0. 1.]\n",
      " [0. 1.]\n",
      " [0. 1.]\n",
      " [0. 1.]\n",
      " [0. 1.]\n",
      " [0. 1.]\n",
      " [0. 1.]\n",
      " [1. 0.]\n",
      " [1. 0.]\n",
      " [1. 0.]\n",
      " [1. 0.]]\n"
     ]
    }
   ],
   "source": [
    "print(oFeaturesTrain.nSamples)\n",
    "print(oFeaturesTrain.arFeatures.shape)\n",
    "print(oFeaturesTrain.nLabels, oFeaturesTrain.liLabels)\n",
    "print(np.array(oFeaturesTrain.liPaths))\n",
    "print(oFeaturesTrain.arLabelsOneHot)"
   ]
  },
  {
   "cell_type": "code",
   "execution_count": 44,
   "metadata": {},
   "outputs": [
    {
     "data": {
      "text/plain": [
       "(29, 20, 2048)"
      ]
     },
     "execution_count": 44,
     "metadata": {},
     "output_type": "execute_result"
    }
   ],
   "source": []
  },
  {
   "cell_type": "code",
   "execution_count": null,
   "metadata": {},
   "outputs": [],
   "source": []
  }
 ],
 "metadata": {
  "kernelspec": {
   "display_name": "Python 3",
   "language": "python",
   "name": "python3"
  },
  "language_info": {
   "codemirror_mode": {
    "name": "ipython",
    "version": 3
   },
   "file_extension": ".py",
   "mimetype": "text/x-python",
   "name": "python",
   "nbconvert_exporter": "python",
   "pygments_lexer": "ipython3",
   "version": "3.6.4"
  }
 },
 "nbformat": 4,
 "nbformat_minor": 2
}
